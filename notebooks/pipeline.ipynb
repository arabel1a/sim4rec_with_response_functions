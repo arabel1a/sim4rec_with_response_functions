{
 "cells": [
  {
   "cell_type": "code",
   "execution_count": 1,
   "metadata": {},
   "outputs": [
    {
     "name": "stderr",
     "output_type": "stream",
     "text": [
      "/data/home/anthony/.conda/envs/simulator/lib/python3.8/site-packages/tqdm/auto.py:22: TqdmWarning: IProgress not found. Please update jupyter and ipywidgets. See https://ipywidgets.readthedocs.io/en/stable/user_install.html\n",
      "  from .autonotebook import tqdm as notebook_tqdm\n",
      "22/10/25 13:16:51 WARN NativeCodeLoader: Unable to load native-hadoop library for your platform... using builtin-java classes where applicable\n",
      "Using Spark's default log4j profile: org/apache/spark/log4j-defaults.properties\n",
      "Setting default log level to \"WARN\".\n",
      "To adjust logging level use sc.setLogLevel(newLevel). For SparkR, use setLogLevel(newLevel).\n",
      "22/10/25 13:16:52 WARN SparkConf: Note that spark.local.dir will be overridden by the value set by the cluster manager (via SPARK_LOCAL_DIRS in mesos/standalone/kubernetes and LOCAL_DIRS in YARN).\n",
      "22/10/25 13:16:52 WARN Utils: Service 'SparkUI' could not bind on port 4040. Attempting port 4041.\n",
      "22/10/25 13:16:52 WARN Utils: Service 'SparkUI' could not bind on port 4041. Attempting port 4042.\n",
      "22/10/25 13:16:52 WARN Utils: Service 'SparkUI' could not bind on port 4042. Attempting port 4043.\n",
      "22/10/25 13:16:52 WARN Utils: Service 'SparkUI' could not bind on port 4043. Attempting port 4044.\n"
     ]
    }
   ],
   "source": [
    "import random\n",
    "\n",
    "import pandas as pd\n",
    "import numpy as np\n",
    "\n",
    "from pyspark import SparkConf\n",
    "from pyspark.sql import SparkSession\n",
    "\n",
    "from replay.session_handler import State\n",
    "from simulator.utils import pandas_to_spark\n",
    "\n",
    "SPARK_LOCAL_DIR = '/data/home/anthony/tmp'\n",
    "CHECKPOINT_DIR = '/data/home/anthony/tmp/checkpoints'\n",
    "\n",
    "spark = SparkSession.builder\\\n",
    "    .appName('simulator')\\\n",
    "    .master('local[4]')\\\n",
    "    .config('spark.sql.shuffle.partitions', '4')\\\n",
    "    .config('spark.default.parallelism', '4')\\\n",
    "    .config('spark.driver.extraJavaOptions', '-XX:+UseG1GC')\\\n",
    "    .config('spark.executor.extraJavaOptions', '-XX:+UseG1GC')\\\n",
    "    .config('spark.sql.autoBroadcastJoinThreshold', '-1')\\\n",
    "    .config('spark.driver.memory', '4g')\\\n",
    "    .config('spark.local.dir', SPARK_LOCAL_DIR)\\\n",
    "    .getOrCreate()\n",
    "\n",
    "State(spark)\n",
    "\n",
    "np.random.seed(1234)\n",
    "\n",
    "users_df = pd.DataFrame(data=np.random.normal(1, 1, size=(10000, 35)), columns=[f'user_attr_{i}' for i in range(35)]) \n",
    "items_df = pd.DataFrame(data=np.random.normal(-1, 1, size=(2000, 35)), columns=[f'item_attr_{i}' for i in range(35)]) \n",
    "items_df.loc[random.sample(range(2000), 1000)] = np.random.normal(1, 1, size=(1000, 35))\n",
    "users_df['user_id'] = np.arange(len(users_df))\n",
    "items_df['item_id'] = np.arange(len(items_df))\n",
    "history_df_all = pd.DataFrame()\n",
    "history_df_all['user_id'] = np.random.randint(0, 10000, size=33000)\n",
    "history_df_all['item_id'] = np.random.randint(0, 2000, size=33000)\n",
    "history_df_all['relevance'] = 0\n",
    "\n",
    "users_matrix = users_df.values[history_df_all.values[:, 0], :-1]\n",
    "items_matrix = items_df.values[history_df_all.values[:, 1], :-1]\n",
    "dot = np.sum(users_matrix * items_matrix, axis=1)\n",
    "history_df_all['relevance'] = np.where(dot >= 0.5, 1, 0)\n",
    "history_df_all = history_df_all.drop_duplicates(subset=['user_id', 'item_id'], ignore_index=True)\n",
    "\n",
    "history_df_train = history_df_all.iloc[:30000]\n",
    "history_df_val = history_df_all.iloc[30000:]\n",
    "\n",
    "users_df = pandas_to_spark(users_df)\n",
    "items_df = pandas_to_spark(items_df)\n",
    "history_df_train = pandas_to_spark(history_df_train)\n",
    "history_df_val = pandas_to_spark(history_df_val)"
   ]
  },
  {
   "cell_type": "markdown",
   "metadata": {},
   "source": [
    "## Divide users into strats"
   ]
  },
  {
   "cell_type": "code",
   "execution_count": 2,
   "metadata": {},
   "outputs": [],
   "source": [
    "import pyspark.sql.functions as sf\n",
    "\n",
    "\n",
    "## Divide users by half for demostration purposes\n",
    "users_cluster_1_df = users_df.filter(sf.col('user_id') < 5000)\n",
    "users_cluster_2_df = users_df.filter(sf.col('user_id') >= 5000)"
   ]
  },
  {
   "cell_type": "markdown",
   "metadata": {},
   "source": [
    "## Обучение генераторов"
   ]
  },
  {
   "cell_type": "code",
   "execution_count": 3,
   "metadata": {},
   "outputs": [
    {
     "name": "stderr",
     "output_type": "stream",
     "text": [
      "22/10/25 13:17:02 WARN package: Truncated the string representation of a plan since it was too large. This behavior can be adjusted by setting 'spark.sql.debug.maxToStringFields'.\n",
      "                                                                                \r"
     ]
    },
    {
     "name": "stdout",
     "output_type": "stream",
     "text": [
      "synth_strat_1 {'LogisticDetection': 1.0, 'SVCDetection': 0.8793778867074163, 'KSTest': 0.9855257142857143, 'ContinuousKLDivergence': 0.9671574151768041}\n",
      "synth_strat_2 {'LogisticDetection': 1.0, 'SVCDetection': 0.8765426150711384, 'KSTest': 0.9846000000000001, 'ContinuousKLDivergence': 0.9670461996009401}\n"
     ]
    }
   ],
   "source": [
    "import warnings\n",
    "warnings.filterwarnings(\"ignore\")\n",
    "\n",
    "from simulator.modules import RealDataGenerator, SDVDataGenerator, CompositeGenerator\n",
    "from simulator.modules import evaluate_synthetic\n",
    "\n",
    "generator_1 = SDVDataGenerator(\n",
    "    label='synth_strat_1',\n",
    "    id_column_name='user_id',\n",
    "    model_name='gaussiancopula',\n",
    "    parallelization_level=4,\n",
    "    device_name='cpu',\n",
    "    seed=1234\n",
    ")\n",
    "generator_2 = SDVDataGenerator(\n",
    "    label='synth_strat_2',\n",
    "    id_column_name='user_id',\n",
    "    model_name='gaussiancopula',\n",
    "    parallelization_level=4,\n",
    "    device_name='cpu',\n",
    "    seed=1234\n",
    ")\n",
    "\n",
    "items_generator = RealDataGenerator(label='items_real', seed=1234)\n",
    "\n",
    "generator_1.fit(users_cluster_1_df.drop('user_id'))\n",
    "generator_2.fit(users_cluster_2_df.drop('user_id'))\n",
    "items_generator.fit(items_df)\n",
    "\n",
    "for g, d in zip([generator_1, generator_2], [users_cluster_1_df, users_cluster_2_df]):\n",
    "    print(g.getLabel(), evaluate_synthetic(g.generate(d.count()).drop('user_id'), d.drop('user_id')))\n",
    "\n",
    "users_com_generator = CompositeGenerator(\n",
    "    generators=[generator_1, generator_2],\n",
    "    label='users_composite',\n",
    "    weights=[0.5, 0.5]\n",
    ")\n",
    "users_com_generator.generate(10000)"
   ]
  },
  {
   "cell_type": "markdown",
   "metadata": {},
   "source": [
    "## Simulator initialization"
   ]
  },
  {
   "cell_type": "code",
   "execution_count": 4,
   "metadata": {},
   "outputs": [],
   "source": [
    "from simulator.modules import Simulator\n",
    "\n",
    "sim = Simulator(\n",
    "    user_gen=users_com_generator,\n",
    "    item_gen=items_generator,\n",
    "    data_dir=f'{CHECKPOINT_DIR}/pipeline',\n",
    "    user_key_col='user_id',\n",
    "    item_key_col='item_id',\n",
    "    spark_session=spark\n",
    ")"
   ]
  },
  {
   "cell_type": "markdown",
   "metadata": {},
   "source": [
    "## Response function"
   ]
  },
  {
   "cell_type": "code",
   "execution_count": 5,
   "metadata": {},
   "outputs": [],
   "source": [
    "from pyspark.ml.feature import VectorAssembler\n",
    "from pyspark.ml import PipelineModel\n",
    "from simulator.response import CosineSimilatiry, BernoulliResponse, NoiseResponse, ParametricResponseFunction\n",
    "\n",
    "\n",
    "va_users = VectorAssembler(\n",
    "    inputCols=users_df.columns[:-1],\n",
    "    outputCol='features_usr'\n",
    ")\n",
    "\n",
    "va_items = VectorAssembler(\n",
    "    inputCols=items_df.columns[:-1],\n",
    "    outputCol='features_itm'\n",
    ")\n",
    "\n",
    "cos_sim = CosineSimilatiry(\n",
    "    inputCols=[\"features_usr\", \"features_itm\"],\n",
    "    outputCol=\"cosine_proba\"\n",
    ")\n",
    "\n",
    "noise_resp = NoiseResponse(mu=0.5, sigma=0.2, outputCol='noise_proba', seed=1234)\n",
    "\n",
    "resp_func = ParametricResponseFunction(\n",
    "    inputCols=['cosine_proba', 'noise_proba'],\n",
    "    outputCol='proba',\n",
    "    weights=[1.0, 0.0]\n",
    ")\n",
    "br = BernoulliResponse(inputCol='proba', outputCol='response')\n",
    "\n",
    "cos_sim_model = PipelineModel(\n",
    "    stages=[\n",
    "        va_users,\n",
    "        va_items,\n",
    "        cos_sim,\n",
    "        noise_resp,\n",
    "        resp_func,\n",
    "        br\n",
    "    ]\n",
    ")"
   ]
  },
  {
   "cell_type": "code",
   "execution_count": 6,
   "metadata": {},
   "outputs": [
    {
     "name": "stderr",
     "output_type": "stream",
     "text": [
      "                                                                                \r"
     ]
    },
    {
     "data": {
      "text/plain": [
       "{'areaUnderROC': 1.0, 'areaUnderPR': 0.9999995429286047}"
      ]
     },
     "execution_count": 6,
     "metadata": {},
     "output_type": "execute_result"
    }
   ],
   "source": [
    "from simulator.modules import EvaluateMetrics\n",
    "\n",
    "test_df = history_df_train.join(users_df, 'user_id', 'left')\\\n",
    "                          .join(items_df, 'item_id', 'left')\n",
    "\n",
    "lr_eval = EvaluateMetrics(\n",
    "    userKeyCol='user_id',\n",
    "    itemKeyCol='item_id',\n",
    "    predictionCol='proba',\n",
    "    labelCol='relevance',\n",
    "    mllib_metrics=['areaUnderROC', 'areaUnderPR']\n",
    ")\n",
    "lr_eval(cos_sim_model.transform(test_df))"
   ]
  },
  {
   "cell_type": "markdown",
   "metadata": {},
   "source": [
    "## Recommendation algorithm training"
   ]
  },
  {
   "cell_type": "code",
   "execution_count": 7,
   "metadata": {},
   "outputs": [
    {
     "name": "stderr",
     "output_type": "stream",
     "text": [
      "                                                                                \r"
     ]
    }
   ],
   "source": [
    "from replay.data_preparator import Indexer\n",
    "\n",
    "indexer = Indexer(user_col='user_id', item_col='item_id')\n",
    "indexer.fit(users=users_com_generator.sample(1.0), items=items_df)\n",
    "\n",
    "from ucb import UCB\n",
    "\n",
    "model = UCB(sample=True)\n",
    "model.fit(log=indexer.transform(history_df_train.limit(1)))"
   ]
  },
  {
   "cell_type": "code",
   "execution_count": 8,
   "metadata": {},
   "outputs": [],
   "source": [
    "from simulator.modules import EvaluateMetrics\n",
    "from replay.metrics import NDCG, Precision, Recall\n",
    "\n",
    "evaluator = EvaluateMetrics(\n",
    "    userKeyCol='user_id',\n",
    "    itemKeyCol='item_id',\n",
    "    predictionCol='relevance',\n",
    "    labelCol='response',\n",
    "    replay_label_filter=1.0,\n",
    "    replay_metrics={NDCG() : 10}\n",
    ")"
   ]
  },
  {
   "cell_type": "code",
   "execution_count": 9,
   "metadata": {},
   "outputs": [
    {
     "name": "stderr",
     "output_type": "stream",
     "text": [
      "22/10/25 13:19:39 WARN DAGScheduler: Broadcasting large task binary with size 1196.9 KiB\n",
      "22/10/25 13:19:42 WARN DAGScheduler: Broadcasting large task binary with size 1037.9 KiB\n",
      "22/10/25 13:19:42 WARN DAGScheduler: Broadcasting large task binary with size 1037.6 KiB\n",
      "22/10/25 13:19:42 WARN DAGScheduler: Broadcasting large task binary with size 1045.7 KiB\n",
      "22/10/25 13:19:43 WARN DAGScheduler: Broadcasting large task binary with size 1071.4 KiB\n",
      "                                                                                \r"
     ]
    },
    {
     "name": "stdout",
     "output_type": "stream",
     "text": [
      "Iteration 0 finished in 16.953267097473145 sec.\n"
     ]
    },
    {
     "name": "stderr",
     "output_type": "stream",
     "text": [
      "22/10/25 13:19:53 WARN DAGScheduler: Broadcasting large task binary with size 1207.3 KiB\n",
      "22/10/25 13:19:55 WARN DAGScheduler: Broadcasting large task binary with size 1048.5 KiB\n",
      "22/10/25 13:19:55 WARN DAGScheduler: Broadcasting large task binary with size 1048.2 KiB\n",
      "22/10/25 13:19:55 WARN DAGScheduler: Broadcasting large task binary with size 1056.3 KiB\n",
      "22/10/25 13:19:55 WARN DAGScheduler: Broadcasting large task binary with size 1082.0 KiB\n"
     ]
    },
    {
     "name": "stdout",
     "output_type": "stream",
     "text": [
      "Iteration 1 finished in 11.85647702217102 sec.\n"
     ]
    },
    {
     "name": "stderr",
     "output_type": "stream",
     "text": [
      "22/10/25 13:20:05 WARN DAGScheduler: Broadcasting large task binary with size 1207.3 KiB\n",
      "22/10/25 13:20:06 WARN DAGScheduler: Broadcasting large task binary with size 1048.2 KiB\n",
      "22/10/25 13:20:06 WARN DAGScheduler: Broadcasting large task binary with size 1048.5 KiB\n",
      "22/10/25 13:20:07 WARN DAGScheduler: Broadcasting large task binary with size 1056.3 KiB\n",
      "22/10/25 13:20:07 WARN DAGScheduler: Broadcasting large task binary with size 1082.0 KiB\n"
     ]
    },
    {
     "name": "stdout",
     "output_type": "stream",
     "text": [
      "Iteration 2 finished in 11.796584129333496 sec.\n"
     ]
    },
    {
     "name": "stderr",
     "output_type": "stream",
     "text": [
      "22/10/25 13:20:18 WARN DAGScheduler: Broadcasting large task binary with size 1207.3 KiB\n",
      "22/10/25 13:20:19 WARN DAGScheduler: Broadcasting large task binary with size 1048.2 KiB\n",
      "22/10/25 13:20:19 WARN DAGScheduler: Broadcasting large task binary with size 1048.5 KiB\n",
      "22/10/25 13:20:19 WARN DAGScheduler: Broadcasting large task binary with size 1056.3 KiB\n",
      "22/10/25 13:20:19 WARN DAGScheduler: Broadcasting large task binary with size 1082.0 KiB\n"
     ]
    },
    {
     "name": "stdout",
     "output_type": "stream",
     "text": [
      "Iteration 3 finished in 12.6285240650177 sec.\n"
     ]
    },
    {
     "name": "stderr",
     "output_type": "stream",
     "text": [
      "22/10/25 13:20:30 WARN DAGScheduler: Broadcasting large task binary with size 1207.3 KiB\n",
      "22/10/25 13:20:31 WARN DAGScheduler: Broadcasting large task binary with size 1048.2 KiB\n",
      "22/10/25 13:20:31 WARN DAGScheduler: Broadcasting large task binary with size 1048.5 KiB\n",
      "22/10/25 13:20:31 WARN DAGScheduler: Broadcasting large task binary with size 1056.3 KiB\n",
      "22/10/25 13:20:31 WARN DAGScheduler: Broadcasting large task binary with size 1082.0 KiB\n"
     ]
    },
    {
     "name": "stdout",
     "output_type": "stream",
     "text": [
      "Iteration 4 finished in 11.720694303512573 sec.\n"
     ]
    },
    {
     "name": "stderr",
     "output_type": "stream",
     "text": [
      "22/10/25 13:20:41 WARN DAGScheduler: Broadcasting large task binary with size 1207.3 KiB\n",
      "22/10/25 13:20:42 WARN DAGScheduler: Broadcasting large task binary with size 1048.2 KiB\n",
      "22/10/25 13:20:42 WARN DAGScheduler: Broadcasting large task binary with size 1048.5 KiB\n",
      "22/10/25 13:20:43 WARN DAGScheduler: Broadcasting large task binary with size 1056.3 KiB\n",
      "22/10/25 13:20:43 WARN DAGScheduler: Broadcasting large task binary with size 1082.0 KiB\n"
     ]
    },
    {
     "name": "stdout",
     "output_type": "stream",
     "text": [
      "Iteration 5 finished in 11.29584002494812 sec.\n"
     ]
    },
    {
     "name": "stderr",
     "output_type": "stream",
     "text": [
      "22/10/25 13:20:53 WARN DAGScheduler: Broadcasting large task binary with size 1207.3 KiB\n",
      "22/10/25 13:20:54 WARN DAGScheduler: Broadcasting large task binary with size 1048.2 KiB\n",
      "22/10/25 13:20:54 WARN DAGScheduler: Broadcasting large task binary with size 1048.5 KiB\n",
      "22/10/25 13:20:54 WARN DAGScheduler: Broadcasting large task binary with size 1056.3 KiB\n",
      "22/10/25 13:20:54 WARN DAGScheduler: Broadcasting large task binary with size 1082.0 KiB\n"
     ]
    },
    {
     "name": "stdout",
     "output_type": "stream",
     "text": [
      "Iteration 6 finished in 11.798566341400146 sec.\n"
     ]
    },
    {
     "name": "stderr",
     "output_type": "stream",
     "text": [
      "22/10/25 13:21:05 WARN DAGScheduler: Broadcasting large task binary with size 1207.3 KiB\n",
      "22/10/25 13:21:06 WARN DAGScheduler: Broadcasting large task binary with size 1048.5 KiB\n",
      "22/10/25 13:21:06 WARN DAGScheduler: Broadcasting large task binary with size 1048.2 KiB\n",
      "22/10/25 13:21:06 WARN DAGScheduler: Broadcasting large task binary with size 1056.3 KiB\n",
      "22/10/25 13:21:07 WARN DAGScheduler: Broadcasting large task binary with size 1082.0 KiB\n"
     ]
    },
    {
     "name": "stdout",
     "output_type": "stream",
     "text": [
      "Iteration 7 finished in 12.18830156326294 sec.\n"
     ]
    },
    {
     "name": "stderr",
     "output_type": "stream",
     "text": [
      "22/10/25 13:21:17 WARN DAGScheduler: Broadcasting large task binary with size 1207.3 KiB\n",
      "22/10/25 13:21:18 WARN DAGScheduler: Broadcasting large task binary with size 1048.5 KiB\n",
      "22/10/25 13:21:18 WARN DAGScheduler: Broadcasting large task binary with size 1048.2 KiB\n",
      "22/10/25 13:21:18 WARN DAGScheduler: Broadcasting large task binary with size 1056.3 KiB\n",
      "22/10/25 13:21:19 WARN DAGScheduler: Broadcasting large task binary with size 1082.0 KiB\n"
     ]
    },
    {
     "name": "stdout",
     "output_type": "stream",
     "text": [
      "Iteration 8 finished in 12.037229061126709 sec.\n"
     ]
    },
    {
     "name": "stderr",
     "output_type": "stream",
     "text": [
      "22/10/25 13:21:29 WARN DAGScheduler: Broadcasting large task binary with size 1207.3 KiB\n",
      "22/10/25 13:21:30 WARN DAGScheduler: Broadcasting large task binary with size 1048.5 KiB\n",
      "22/10/25 13:21:30 WARN DAGScheduler: Broadcasting large task binary with size 1048.2 KiB\n",
      "22/10/25 13:21:31 WARN DAGScheduler: Broadcasting large task binary with size 1056.3 KiB\n",
      "22/10/25 13:21:31 WARN DAGScheduler: Broadcasting large task binary with size 1082.0 KiB\n"
     ]
    },
    {
     "name": "stdout",
     "output_type": "stream",
     "text": [
      "Iteration 9 finished in 12.373937606811523 sec.\n"
     ]
    },
    {
     "name": "stderr",
     "output_type": "stream",
     "text": [
      "22/10/25 13:21:42 WARN DAGScheduler: Broadcasting large task binary with size 1207.3 KiB\n",
      "22/10/25 13:21:43 WARN DAGScheduler: Broadcasting large task binary with size 1048.2 KiB\n",
      "22/10/25 13:21:43 WARN DAGScheduler: Broadcasting large task binary with size 1048.5 KiB\n",
      "22/10/25 13:21:43 WARN DAGScheduler: Broadcasting large task binary with size 1056.3 KiB\n",
      "22/10/25 13:21:43 WARN DAGScheduler: Broadcasting large task binary with size 1082.0 KiB\n"
     ]
    },
    {
     "name": "stdout",
     "output_type": "stream",
     "text": [
      "Iteration 10 finished in 12.612672090530396 sec.\n"
     ]
    },
    {
     "name": "stderr",
     "output_type": "stream",
     "text": [
      "22/10/25 13:21:54 WARN DAGScheduler: Broadcasting large task binary with size 1207.3 KiB\n",
      "22/10/25 13:21:55 WARN DAGScheduler: Broadcasting large task binary with size 1048.5 KiB\n",
      "22/10/25 13:21:55 WARN DAGScheduler: Broadcasting large task binary with size 1048.2 KiB\n",
      "22/10/25 13:21:55 WARN DAGScheduler: Broadcasting large task binary with size 1056.3 KiB\n",
      "22/10/25 13:21:56 WARN DAGScheduler: Broadcasting large task binary with size 1082.0 KiB\n"
     ]
    },
    {
     "name": "stdout",
     "output_type": "stream",
     "text": [
      "Iteration 11 finished in 12.439698219299316 sec.\n"
     ]
    },
    {
     "name": "stderr",
     "output_type": "stream",
     "text": [
      "22/10/25 13:22:06 WARN DAGScheduler: Broadcasting large task binary with size 1207.3 KiB\n",
      "22/10/25 13:22:07 WARN DAGScheduler: Broadcasting large task binary with size 1048.5 KiB\n",
      "22/10/25 13:22:07 WARN DAGScheduler: Broadcasting large task binary with size 1048.2 KiB\n",
      "22/10/25 13:22:08 WARN DAGScheduler: Broadcasting large task binary with size 1056.3 KiB\n",
      "22/10/25 13:22:08 WARN DAGScheduler: Broadcasting large task binary with size 1082.0 KiB\n"
     ]
    },
    {
     "name": "stdout",
     "output_type": "stream",
     "text": [
      "Iteration 12 finished in 12.158002376556396 sec.\n"
     ]
    },
    {
     "name": "stderr",
     "output_type": "stream",
     "text": [
      "22/10/25 13:22:19 WARN DAGScheduler: Broadcasting large task binary with size 1207.3 KiB\n",
      "22/10/25 13:22:20 WARN DAGScheduler: Broadcasting large task binary with size 1048.2 KiB\n",
      "22/10/25 13:22:20 WARN DAGScheduler: Broadcasting large task binary with size 1048.5 KiB\n",
      "22/10/25 13:22:20 WARN DAGScheduler: Broadcasting large task binary with size 1056.3 KiB\n",
      "22/10/25 13:22:20 WARN DAGScheduler: Broadcasting large task binary with size 1082.0 KiB\n"
     ]
    },
    {
     "name": "stdout",
     "output_type": "stream",
     "text": [
      "Iteration 13 finished in 12.350621938705444 sec.\n"
     ]
    },
    {
     "name": "stderr",
     "output_type": "stream",
     "text": [
      "22/10/25 13:22:31 WARN DAGScheduler: Broadcasting large task binary with size 1207.3 KiB\n",
      "22/10/25 13:22:32 WARN DAGScheduler: Broadcasting large task binary with size 1048.5 KiB\n",
      "22/10/25 13:22:32 WARN DAGScheduler: Broadcasting large task binary with size 1048.2 KiB\n",
      "22/10/25 13:22:33 WARN DAGScheduler: Broadcasting large task binary with size 1056.3 KiB\n",
      "22/10/25 13:22:33 WARN DAGScheduler: Broadcasting large task binary with size 1082.0 KiB\n"
     ]
    },
    {
     "name": "stdout",
     "output_type": "stream",
     "text": [
      "Iteration 14 finished in 12.585139274597168 sec.\n"
     ]
    },
    {
     "name": "stderr",
     "output_type": "stream",
     "text": [
      "22/10/25 13:22:43 WARN DAGScheduler: Broadcasting large task binary with size 1207.3 KiB\n",
      "22/10/25 13:22:45 WARN DAGScheduler: Broadcasting large task binary with size 1048.2 KiB\n",
      "22/10/25 13:22:45 WARN DAGScheduler: Broadcasting large task binary with size 1048.5 KiB\n",
      "22/10/25 13:22:45 WARN DAGScheduler: Broadcasting large task binary with size 1056.3 KiB\n",
      "22/10/25 13:22:45 WARN DAGScheduler: Broadcasting large task binary with size 1082.0 KiB\n"
     ]
    },
    {
     "name": "stdout",
     "output_type": "stream",
     "text": [
      "Iteration 15 finished in 12.140209913253784 sec.\n"
     ]
    },
    {
     "name": "stderr",
     "output_type": "stream",
     "text": [
      "22/10/25 13:22:55 WARN DAGScheduler: Broadcasting large task binary with size 1207.3 KiB\n",
      "22/10/25 13:22:57 WARN DAGScheduler: Broadcasting large task binary with size 1048.2 KiB\n",
      "22/10/25 13:22:57 WARN DAGScheduler: Broadcasting large task binary with size 1048.5 KiB\n",
      "22/10/25 13:22:57 WARN DAGScheduler: Broadcasting large task binary with size 1056.3 KiB\n",
      "22/10/25 13:22:57 WARN DAGScheduler: Broadcasting large task binary with size 1082.0 KiB\n"
     ]
    },
    {
     "name": "stdout",
     "output_type": "stream",
     "text": [
      "Iteration 16 finished in 11.597395658493042 sec.\n"
     ]
    },
    {
     "name": "stderr",
     "output_type": "stream",
     "text": [
      "22/10/25 13:23:08 WARN DAGScheduler: Broadcasting large task binary with size 1207.3 KiB\n",
      "22/10/25 13:23:09 WARN DAGScheduler: Broadcasting large task binary with size 1048.5 KiB\n",
      "22/10/25 13:23:09 WARN DAGScheduler: Broadcasting large task binary with size 1048.2 KiB\n",
      "22/10/25 13:23:09 WARN DAGScheduler: Broadcasting large task binary with size 1056.3 KiB\n",
      "22/10/25 13:23:09 WARN DAGScheduler: Broadcasting large task binary with size 1082.0 KiB\n"
     ]
    },
    {
     "name": "stdout",
     "output_type": "stream",
     "text": [
      "Iteration 17 finished in 12.406867742538452 sec.\n"
     ]
    },
    {
     "name": "stderr",
     "output_type": "stream",
     "text": [
      "22/10/25 13:23:20 WARN DAGScheduler: Broadcasting large task binary with size 1207.3 KiB\n",
      "22/10/25 13:23:21 WARN DAGScheduler: Broadcasting large task binary with size 1048.5 KiB\n",
      "22/10/25 13:23:21 WARN DAGScheduler: Broadcasting large task binary with size 1048.2 KiB\n",
      "22/10/25 13:23:21 WARN DAGScheduler: Broadcasting large task binary with size 1056.3 KiB\n",
      "22/10/25 13:23:21 WARN DAGScheduler: Broadcasting large task binary with size 1082.0 KiB\n"
     ]
    },
    {
     "name": "stdout",
     "output_type": "stream",
     "text": [
      "Iteration 18 finished in 12.409728765487671 sec.\n"
     ]
    },
    {
     "name": "stderr",
     "output_type": "stream",
     "text": [
      "22/10/25 13:23:32 WARN DAGScheduler: Broadcasting large task binary with size 1207.3 KiB\n",
      "22/10/25 13:23:33 WARN DAGScheduler: Broadcasting large task binary with size 1048.2 KiB\n",
      "22/10/25 13:23:33 WARN DAGScheduler: Broadcasting large task binary with size 1048.5 KiB\n",
      "22/10/25 13:23:33 WARN DAGScheduler: Broadcasting large task binary with size 1056.3 KiB\n",
      "22/10/25 13:23:33 WARN DAGScheduler: Broadcasting large task binary with size 1082.0 KiB\n"
     ]
    },
    {
     "name": "stdout",
     "output_type": "stream",
     "text": [
      "Iteration 19 finished in 11.923715353012085 sec.\n"
     ]
    },
    {
     "name": "stderr",
     "output_type": "stream",
     "text": [
      "22/10/25 13:23:44 WARN DAGScheduler: Broadcasting large task binary with size 1207.3 KiB\n",
      "22/10/25 13:23:45 WARN DAGScheduler: Broadcasting large task binary with size 1048.2 KiB\n",
      "22/10/25 13:23:45 WARN DAGScheduler: Broadcasting large task binary with size 1048.5 KiB\n",
      "22/10/25 13:23:45 WARN DAGScheduler: Broadcasting large task binary with size 1056.3 KiB\n",
      "22/10/25 13:23:45 WARN DAGScheduler: Broadcasting large task binary with size 1082.0 KiB\n"
     ]
    },
    {
     "name": "stdout",
     "output_type": "stream",
     "text": [
      "Iteration 20 finished in 12.186859607696533 sec.\n"
     ]
    },
    {
     "name": "stderr",
     "output_type": "stream",
     "text": [
      "22/10/25 13:23:56 WARN DAGScheduler: Broadcasting large task binary with size 1207.3 KiB\n",
      "22/10/25 13:23:57 WARN DAGScheduler: Broadcasting large task binary with size 1048.2 KiB\n",
      "22/10/25 13:23:57 WARN DAGScheduler: Broadcasting large task binary with size 1048.5 KiB\n",
      "22/10/25 13:23:57 WARN DAGScheduler: Broadcasting large task binary with size 1056.3 KiB\n",
      "22/10/25 13:23:58 WARN DAGScheduler: Broadcasting large task binary with size 1082.0 KiB\n"
     ]
    },
    {
     "name": "stdout",
     "output_type": "stream",
     "text": [
      "Iteration 21 finished in 12.111578702926636 sec.\n"
     ]
    },
    {
     "name": "stderr",
     "output_type": "stream",
     "text": [
      "22/10/25 13:24:08 WARN DAGScheduler: Broadcasting large task binary with size 1207.3 KiB\n",
      "22/10/25 13:24:09 WARN DAGScheduler: Broadcasting large task binary with size 1048.5 KiB\n",
      "22/10/25 13:24:09 WARN DAGScheduler: Broadcasting large task binary with size 1048.2 KiB\n",
      "22/10/25 13:24:10 WARN DAGScheduler: Broadcasting large task binary with size 1056.3 KiB\n",
      "22/10/25 13:24:10 WARN DAGScheduler: Broadcasting large task binary with size 1082.0 KiB\n"
     ]
    },
    {
     "name": "stdout",
     "output_type": "stream",
     "text": [
      "Iteration 22 finished in 12.432615995407104 sec.\n"
     ]
    },
    {
     "name": "stderr",
     "output_type": "stream",
     "text": [
      "22/10/25 13:24:20 WARN DAGScheduler: Broadcasting large task binary with size 1207.3 KiB\n",
      "22/10/25 13:24:21 WARN DAGScheduler: Broadcasting large task binary with size 1048.2 KiB\n",
      "22/10/25 13:24:21 WARN DAGScheduler: Broadcasting large task binary with size 1048.5 KiB\n",
      "22/10/25 13:24:22 WARN DAGScheduler: Broadcasting large task binary with size 1056.3 KiB\n",
      "22/10/25 13:24:22 WARN DAGScheduler: Broadcasting large task binary with size 1082.0 KiB\n"
     ]
    },
    {
     "name": "stdout",
     "output_type": "stream",
     "text": [
      "Iteration 23 finished in 11.884602069854736 sec.\n"
     ]
    },
    {
     "name": "stderr",
     "output_type": "stream",
     "text": [
      "22/10/25 13:24:32 WARN DAGScheduler: Broadcasting large task binary with size 1207.3 KiB\n",
      "22/10/25 13:24:33 WARN DAGScheduler: Broadcasting large task binary with size 1048.5 KiB\n",
      "22/10/25 13:24:33 WARN DAGScheduler: Broadcasting large task binary with size 1048.2 KiB\n",
      "22/10/25 13:24:34 WARN DAGScheduler: Broadcasting large task binary with size 1056.3 KiB\n",
      "22/10/25 13:24:34 WARN DAGScheduler: Broadcasting large task binary with size 1082.0 KiB\n"
     ]
    },
    {
     "name": "stdout",
     "output_type": "stream",
     "text": [
      "Iteration 24 finished in 11.6283118724823 sec.\n"
     ]
    },
    {
     "name": "stderr",
     "output_type": "stream",
     "text": [
      "22/10/25 13:24:44 WARN DAGScheduler: Broadcasting large task binary with size 1207.3 KiB\n",
      "22/10/25 13:24:45 WARN DAGScheduler: Broadcasting large task binary with size 1048.5 KiB\n",
      "22/10/25 13:24:45 WARN DAGScheduler: Broadcasting large task binary with size 1048.2 KiB\n",
      "22/10/25 13:24:45 WARN DAGScheduler: Broadcasting large task binary with size 1056.3 KiB\n",
      "22/10/25 13:24:45 WARN DAGScheduler: Broadcasting large task binary with size 1082.0 KiB\n"
     ]
    },
    {
     "name": "stdout",
     "output_type": "stream",
     "text": [
      "Iteration 25 finished in 11.67641830444336 sec.\n"
     ]
    },
    {
     "name": "stderr",
     "output_type": "stream",
     "text": [
      "22/10/25 13:24:56 WARN DAGScheduler: Broadcasting large task binary with size 1207.3 KiB\n",
      "22/10/25 13:24:57 WARN DAGScheduler: Broadcasting large task binary with size 1048.5 KiB\n",
      "22/10/25 13:24:57 WARN DAGScheduler: Broadcasting large task binary with size 1048.2 KiB\n",
      "22/10/25 13:24:57 WARN DAGScheduler: Broadcasting large task binary with size 1056.3 KiB\n",
      "22/10/25 13:24:57 WARN DAGScheduler: Broadcasting large task binary with size 1082.0 KiB\n"
     ]
    },
    {
     "name": "stdout",
     "output_type": "stream",
     "text": [
      "Iteration 26 finished in 11.899410009384155 sec.\n"
     ]
    },
    {
     "name": "stderr",
     "output_type": "stream",
     "text": [
      "22/10/25 13:25:07 WARN DAGScheduler: Broadcasting large task binary with size 1207.3 KiB\n",
      "22/10/25 13:25:08 WARN DAGScheduler: Broadcasting large task binary with size 1048.2 KiB\n",
      "22/10/25 13:25:08 WARN DAGScheduler: Broadcasting large task binary with size 1048.5 KiB\n",
      "22/10/25 13:25:09 WARN DAGScheduler: Broadcasting large task binary with size 1056.3 KiB\n",
      "22/10/25 13:25:09 WARN DAGScheduler: Broadcasting large task binary with size 1082.0 KiB\n"
     ]
    },
    {
     "name": "stdout",
     "output_type": "stream",
     "text": [
      "Iteration 27 finished in 11.604933261871338 sec.\n"
     ]
    },
    {
     "name": "stderr",
     "output_type": "stream",
     "text": [
      "22/10/25 13:25:19 WARN DAGScheduler: Broadcasting large task binary with size 1207.3 KiB\n",
      "22/10/25 13:25:20 WARN DAGScheduler: Broadcasting large task binary with size 1048.2 KiB\n",
      "22/10/25 13:25:20 WARN DAGScheduler: Broadcasting large task binary with size 1048.5 KiB\n",
      "22/10/25 13:25:21 WARN DAGScheduler: Broadcasting large task binary with size 1056.3 KiB\n",
      "22/10/25 13:25:21 WARN DAGScheduler: Broadcasting large task binary with size 1082.0 KiB\n"
     ]
    },
    {
     "name": "stdout",
     "output_type": "stream",
     "text": [
      "Iteration 28 finished in 12.192487001419067 sec.\n"
     ]
    },
    {
     "name": "stderr",
     "output_type": "stream",
     "text": [
      "22/10/25 13:25:31 WARN DAGScheduler: Broadcasting large task binary with size 1207.3 KiB\n",
      "22/10/25 13:25:32 WARN DAGScheduler: Broadcasting large task binary with size 1048.5 KiB\n",
      "22/10/25 13:25:32 WARN DAGScheduler: Broadcasting large task binary with size 1048.2 KiB\n",
      "22/10/25 13:25:33 WARN DAGScheduler: Broadcasting large task binary with size 1056.3 KiB\n",
      "22/10/25 13:25:33 WARN DAGScheduler: Broadcasting large task binary with size 1082.0 KiB\n"
     ]
    },
    {
     "name": "stdout",
     "output_type": "stream",
     "text": [
      "Iteration 29 finished in 11.85927677154541 sec.\n"
     ]
    },
    {
     "name": "stderr",
     "output_type": "stream",
     "text": [
      "22/10/25 13:25:43 WARN DAGScheduler: Broadcasting large task binary with size 1207.3 KiB\n",
      "22/10/25 13:25:44 WARN DAGScheduler: Broadcasting large task binary with size 1048.2 KiB\n",
      "22/10/25 13:25:44 WARN DAGScheduler: Broadcasting large task binary with size 1048.5 KiB\n",
      "22/10/25 13:25:44 WARN DAGScheduler: Broadcasting large task binary with size 1056.3 KiB\n",
      "22/10/25 13:25:45 WARN DAGScheduler: Broadcasting large task binary with size 1082.0 KiB\n"
     ]
    },
    {
     "name": "stdout",
     "output_type": "stream",
     "text": [
      "Iteration 30 finished in 11.9087393283844 sec.\n"
     ]
    },
    {
     "name": "stderr",
     "output_type": "stream",
     "text": [
      "22/10/25 13:25:55 WARN DAGScheduler: Broadcasting large task binary with size 1207.3 KiB\n",
      "22/10/25 13:25:56 WARN DAGScheduler: Broadcasting large task binary with size 1048.2 KiB\n",
      "22/10/25 13:25:56 WARN DAGScheduler: Broadcasting large task binary with size 1048.5 KiB\n",
      "22/10/25 13:25:56 WARN DAGScheduler: Broadcasting large task binary with size 1056.3 KiB\n",
      "22/10/25 13:25:57 WARN DAGScheduler: Broadcasting large task binary with size 1082.0 KiB\n"
     ]
    },
    {
     "name": "stdout",
     "output_type": "stream",
     "text": [
      "Iteration 31 finished in 12.192616701126099 sec.\n"
     ]
    },
    {
     "name": "stderr",
     "output_type": "stream",
     "text": [
      "22/10/25 13:26:08 WARN DAGScheduler: Broadcasting large task binary with size 1207.3 KiB\n",
      "22/10/25 13:26:09 WARN DAGScheduler: Broadcasting large task binary with size 1048.2 KiB\n",
      "22/10/25 13:26:09 WARN DAGScheduler: Broadcasting large task binary with size 1048.5 KiB\n",
      "22/10/25 13:26:09 WARN DAGScheduler: Broadcasting large task binary with size 1056.3 KiB\n",
      "22/10/25 13:26:09 WARN DAGScheduler: Broadcasting large task binary with size 1082.0 KiB\n"
     ]
    },
    {
     "name": "stdout",
     "output_type": "stream",
     "text": [
      "Iteration 32 finished in 12.949300050735474 sec.\n"
     ]
    },
    {
     "name": "stderr",
     "output_type": "stream",
     "text": [
      "22/10/25 13:26:21 WARN DAGScheduler: Broadcasting large task binary with size 1207.3 KiB\n",
      "22/10/25 13:26:22 WARN DAGScheduler: Broadcasting large task binary with size 1048.5 KiB\n",
      "22/10/25 13:26:22 WARN DAGScheduler: Broadcasting large task binary with size 1048.2 KiB\n",
      "22/10/25 13:26:22 WARN DAGScheduler: Broadcasting large task binary with size 1056.3 KiB\n",
      "22/10/25 13:26:22 WARN DAGScheduler: Broadcasting large task binary with size 1082.0 KiB\n"
     ]
    },
    {
     "name": "stdout",
     "output_type": "stream",
     "text": [
      "Iteration 33 finished in 12.624414205551147 sec.\n"
     ]
    },
    {
     "name": "stderr",
     "output_type": "stream",
     "text": [
      "22/10/25 13:26:33 WARN DAGScheduler: Broadcasting large task binary with size 1207.3 KiB\n",
      "22/10/25 13:26:34 WARN DAGScheduler: Broadcasting large task binary with size 1048.5 KiB\n",
      "22/10/25 13:26:34 WARN DAGScheduler: Broadcasting large task binary with size 1048.2 KiB\n",
      "22/10/25 13:26:35 WARN DAGScheduler: Broadcasting large task binary with size 1056.3 KiB\n",
      "22/10/25 13:26:35 WARN DAGScheduler: Broadcasting large task binary with size 1082.0 KiB\n"
     ]
    },
    {
     "name": "stdout",
     "output_type": "stream",
     "text": [
      "Iteration 34 finished in 12.810271978378296 sec.\n"
     ]
    },
    {
     "name": "stderr",
     "output_type": "stream",
     "text": [
      "22/10/25 13:26:46 WARN DAGScheduler: Broadcasting large task binary with size 1207.3 KiB\n",
      "22/10/25 13:26:47 WARN DAGScheduler: Broadcasting large task binary with size 1048.2 KiB\n",
      "22/10/25 13:26:47 WARN DAGScheduler: Broadcasting large task binary with size 1048.5 KiB\n",
      "22/10/25 13:26:47 WARN DAGScheduler: Broadcasting large task binary with size 1056.3 KiB\n",
      "22/10/25 13:26:48 WARN DAGScheduler: Broadcasting large task binary with size 1082.0 KiB\n"
     ]
    },
    {
     "name": "stdout",
     "output_type": "stream",
     "text": [
      "Iteration 35 finished in 12.718792200088501 sec.\n"
     ]
    },
    {
     "name": "stderr",
     "output_type": "stream",
     "text": [
      "22/10/25 13:26:59 WARN DAGScheduler: Broadcasting large task binary with size 1207.3 KiB\n",
      "22/10/25 13:27:00 WARN DAGScheduler: Broadcasting large task binary with size 1048.2 KiB\n",
      "22/10/25 13:27:00 WARN DAGScheduler: Broadcasting large task binary with size 1048.6 KiB\n",
      "22/10/25 13:27:00 WARN DAGScheduler: Broadcasting large task binary with size 1056.3 KiB\n",
      "22/10/25 13:27:00 WARN DAGScheduler: Broadcasting large task binary with size 1082.0 KiB\n"
     ]
    },
    {
     "name": "stdout",
     "output_type": "stream",
     "text": [
      "Iteration 36 finished in 12.986697435379028 sec.\n"
     ]
    },
    {
     "name": "stderr",
     "output_type": "stream",
     "text": [
      "22/10/25 13:27:12 WARN DAGScheduler: Broadcasting large task binary with size 1207.3 KiB\n",
      "22/10/25 13:27:13 WARN DAGScheduler: Broadcasting large task binary with size 1048.5 KiB\n",
      "22/10/25 13:27:13 WARN DAGScheduler: Broadcasting large task binary with size 1048.2 KiB\n",
      "22/10/25 13:27:13 WARN DAGScheduler: Broadcasting large task binary with size 1056.3 KiB\n",
      "22/10/25 13:27:14 WARN DAGScheduler: Broadcasting large task binary with size 1082.0 KiB\n",
      "                                                                                \r"
     ]
    },
    {
     "name": "stdout",
     "output_type": "stream",
     "text": [
      "Iteration 37 finished in 13.280146360397339 sec.\n"
     ]
    },
    {
     "name": "stderr",
     "output_type": "stream",
     "text": [
      "22/10/25 13:27:25 WARN DAGScheduler: Broadcasting large task binary with size 1207.3 KiB\n",
      "22/10/25 13:27:26 WARN DAGScheduler: Broadcasting large task binary with size 1048.6 KiB\n",
      "22/10/25 13:27:26 WARN DAGScheduler: Broadcasting large task binary with size 1048.2 KiB\n",
      "22/10/25 13:27:27 WARN DAGScheduler: Broadcasting large task binary with size 1056.3 KiB\n",
      "22/10/25 13:27:27 WARN DAGScheduler: Broadcasting large task binary with size 1082.0 KiB\n",
      "                                                                                \r"
     ]
    },
    {
     "name": "stdout",
     "output_type": "stream",
     "text": [
      "Iteration 38 finished in 13.126737594604492 sec.\n"
     ]
    },
    {
     "name": "stderr",
     "output_type": "stream",
     "text": [
      "22/10/25 13:27:38 WARN DAGScheduler: Broadcasting large task binary with size 1207.3 KiB\n",
      "22/10/25 13:27:40 WARN DAGScheduler: Broadcasting large task binary with size 1048.2 KiB\n",
      "22/10/25 13:27:40 WARN DAGScheduler: Broadcasting large task binary with size 1048.6 KiB\n",
      "22/10/25 13:27:40 WARN DAGScheduler: Broadcasting large task binary with size 1056.3 KiB\n",
      "22/10/25 13:27:40 WARN DAGScheduler: Broadcasting large task binary with size 1082.0 KiB\n",
      "                                                                                \r"
     ]
    },
    {
     "name": "stdout",
     "output_type": "stream",
     "text": [
      "Iteration 39 finished in 13.413279294967651 sec.\n"
     ]
    },
    {
     "name": "stderr",
     "output_type": "stream",
     "text": [
      "22/10/25 13:27:52 WARN DAGScheduler: Broadcasting large task binary with size 1207.3 KiB\n",
      "22/10/25 13:27:53 WARN DAGScheduler: Broadcasting large task binary with size 1048.2 KiB\n",
      "22/10/25 13:27:53 WARN DAGScheduler: Broadcasting large task binary with size 1048.5 KiB\n",
      "22/10/25 13:27:53 WARN DAGScheduler: Broadcasting large task binary with size 1056.3 KiB\n",
      "22/10/25 13:27:53 WARN DAGScheduler: Broadcasting large task binary with size 1082.0 KiB\n",
      "                                                                                \r"
     ]
    },
    {
     "name": "stdout",
     "output_type": "stream",
     "text": [
      "Iteration 40 finished in 13.06849479675293 sec.\n"
     ]
    },
    {
     "name": "stderr",
     "output_type": "stream",
     "text": [
      "22/10/25 13:28:04 WARN DAGScheduler: Broadcasting large task binary with size 1207.3 KiB\n",
      "22/10/25 13:28:06 WARN DAGScheduler: Broadcasting large task binary with size 1048.2 KiB\n",
      "22/10/25 13:28:06 WARN DAGScheduler: Broadcasting large task binary with size 1048.6 KiB\n",
      "22/10/25 13:28:06 WARN DAGScheduler: Broadcasting large task binary with size 1056.3 KiB\n",
      "22/10/25 13:28:06 WARN DAGScheduler: Broadcasting large task binary with size 1082.0 KiB\n",
      "                                                                                \r"
     ]
    },
    {
     "name": "stdout",
     "output_type": "stream",
     "text": [
      "Iteration 41 finished in 12.799630880355835 sec.\n"
     ]
    },
    {
     "name": "stderr",
     "output_type": "stream",
     "text": [
      "22/10/25 13:28:17 WARN DAGScheduler: Broadcasting large task binary with size 1207.3 KiB\n",
      "22/10/25 13:28:19 WARN DAGScheduler: Broadcasting large task binary with size 1048.6 KiB\n",
      "22/10/25 13:28:19 WARN DAGScheduler: Broadcasting large task binary with size 1048.2 KiB\n",
      "22/10/25 13:28:19 WARN DAGScheduler: Broadcasting large task binary with size 1056.3 KiB\n",
      "22/10/25 13:28:19 WARN DAGScheduler: Broadcasting large task binary with size 1082.0 KiB\n",
      "                                                                                \r"
     ]
    },
    {
     "name": "stdout",
     "output_type": "stream",
     "text": [
      "Iteration 42 finished in 13.578798770904541 sec.\n"
     ]
    },
    {
     "name": "stderr",
     "output_type": "stream",
     "text": [
      "22/10/25 13:28:31 WARN DAGScheduler: Broadcasting large task binary with size 1207.3 KiB\n",
      "22/10/25 13:28:32 WARN DAGScheduler: Broadcasting large task binary with size 1048.6 KiB\n",
      "22/10/25 13:28:32 WARN DAGScheduler: Broadcasting large task binary with size 1048.2 KiB\n",
      "22/10/25 13:28:32 WARN DAGScheduler: Broadcasting large task binary with size 1056.3 KiB\n",
      "22/10/25 13:28:32 WARN DAGScheduler: Broadcasting large task binary with size 1082.0 KiB\n",
      "                                                                                \r"
     ]
    },
    {
     "name": "stdout",
     "output_type": "stream",
     "text": [
      "Iteration 43 finished in 13.003741025924683 sec.\n"
     ]
    },
    {
     "name": "stderr",
     "output_type": "stream",
     "text": [
      "22/10/25 13:28:44 WARN DAGScheduler: Broadcasting large task binary with size 1207.3 KiB\n",
      "22/10/25 13:28:45 WARN DAGScheduler: Broadcasting large task binary with size 1048.2 KiB\n",
      "22/10/25 13:28:45 WARN DAGScheduler: Broadcasting large task binary with size 1048.6 KiB\n",
      "22/10/25 13:28:46 WARN DAGScheduler: Broadcasting large task binary with size 1056.3 KiB\n",
      "22/10/25 13:28:46 WARN DAGScheduler: Broadcasting large task binary with size 1082.0 KiB\n",
      "                                                                                \r"
     ]
    },
    {
     "name": "stdout",
     "output_type": "stream",
     "text": [
      "Iteration 44 finished in 13.486114740371704 sec.\n"
     ]
    },
    {
     "name": "stderr",
     "output_type": "stream",
     "text": [
      "22/10/25 13:28:58 WARN DAGScheduler: Broadcasting large task binary with size 1207.3 KiB\n",
      "22/10/25 13:28:59 WARN DAGScheduler: Broadcasting large task binary with size 1048.5 KiB\n",
      "22/10/25 13:28:59 WARN DAGScheduler: Broadcasting large task binary with size 1048.2 KiB\n",
      "22/10/25 13:28:59 WARN DAGScheduler: Broadcasting large task binary with size 1056.3 KiB\n",
      "22/10/25 13:28:59 WARN DAGScheduler: Broadcasting large task binary with size 1082.0 KiB\n",
      "                                                                                \r"
     ]
    },
    {
     "name": "stdout",
     "output_type": "stream",
     "text": [
      "Iteration 45 finished in 13.702731132507324 sec.\n"
     ]
    },
    {
     "name": "stderr",
     "output_type": "stream",
     "text": [
      "22/10/25 13:29:11 WARN DAGScheduler: Broadcasting large task binary with size 1207.3 KiB\n",
      "22/10/25 13:29:12 WARN DAGScheduler: Broadcasting large task binary with size 1048.2 KiB\n",
      "22/10/25 13:29:12 WARN DAGScheduler: Broadcasting large task binary with size 1048.6 KiB\n",
      "22/10/25 13:29:13 WARN DAGScheduler: Broadcasting large task binary with size 1056.3 KiB\n",
      "22/10/25 13:29:13 WARN DAGScheduler: Broadcasting large task binary with size 1082.0 KiB\n",
      "                                                                                \r"
     ]
    },
    {
     "name": "stdout",
     "output_type": "stream",
     "text": [
      "Iteration 46 finished in 13.267358303070068 sec.\n"
     ]
    },
    {
     "name": "stderr",
     "output_type": "stream",
     "text": [
      "22/10/25 13:29:25 WARN DAGScheduler: Broadcasting large task binary with size 1207.3 KiB\n",
      "22/10/25 13:29:26 WARN DAGScheduler: Broadcasting large task binary with size 1048.5 KiB\n",
      "22/10/25 13:29:26 WARN DAGScheduler: Broadcasting large task binary with size 1048.2 KiB\n",
      "22/10/25 13:29:26 WARN DAGScheduler: Broadcasting large task binary with size 1056.3 KiB\n",
      "22/10/25 13:29:26 WARN DAGScheduler: Broadcasting large task binary with size 1082.0 KiB\n",
      "                                                                                \r"
     ]
    },
    {
     "name": "stdout",
     "output_type": "stream",
     "text": [
      "Iteration 47 finished in 13.505533695220947 sec.\n"
     ]
    },
    {
     "name": "stderr",
     "output_type": "stream",
     "text": [
      "22/10/25 13:29:38 WARN DAGScheduler: Broadcasting large task binary with size 1207.3 KiB\n",
      "22/10/25 13:29:39 WARN DAGScheduler: Broadcasting large task binary with size 1048.2 KiB\n",
      "22/10/25 13:29:39 WARN DAGScheduler: Broadcasting large task binary with size 1048.6 KiB\n",
      "22/10/25 13:29:39 WARN DAGScheduler: Broadcasting large task binary with size 1056.3 KiB\n",
      "22/10/25 13:29:40 WARN DAGScheduler: Broadcasting large task binary with size 1082.0 KiB\n",
      "                                                                                \r"
     ]
    },
    {
     "name": "stdout",
     "output_type": "stream",
     "text": [
      "Iteration 48 finished in 13.393417835235596 sec.\n"
     ]
    },
    {
     "name": "stderr",
     "output_type": "stream",
     "text": [
      "22/10/25 13:29:52 WARN DAGScheduler: Broadcasting large task binary with size 1207.3 KiB\n",
      "22/10/25 13:29:53 WARN DAGScheduler: Broadcasting large task binary with size 1048.2 KiB\n",
      "22/10/25 13:29:53 WARN DAGScheduler: Broadcasting large task binary with size 1048.6 KiB\n",
      "22/10/25 13:29:53 WARN DAGScheduler: Broadcasting large task binary with size 1056.3 KiB\n",
      "22/10/25 13:29:53 WARN DAGScheduler: Broadcasting large task binary with size 1082.0 KiB\n",
      "                                                                                \r"
     ]
    },
    {
     "name": "stdout",
     "output_type": "stream",
     "text": [
      "Iteration 49 finished in 13.94927430152893 sec.\n"
     ]
    }
   ],
   "source": [
    "import time\n",
    "from replay.utils import get_top_k_recs\n",
    "\n",
    "metrics = []\n",
    "for i in range(50):\n",
    "    iter_time = time.time()\n",
    "    ## sample a bunch of users\n",
    "    users = sim.sample_users(0.02).cache()\n",
    "\n",
    "    log = sim.get_log(users)\n",
    "    if log is None:\n",
    "        log = history_df_train.limit(1)\n",
    "    log = log.cache()\n",
    "\n",
    "    recs = model.predict(\n",
    "        log=indexer.transform(log),\n",
    "        k=10,\n",
    "        users=indexer.transform(users),\n",
    "        items=indexer.transform(items_df)\n",
    "    )\n",
    "    recs = indexer.inverse_transform(recs).cache()\n",
    "\n",
    "    ## simulate responses on recommended items\n",
    "    true_resp = sim.sample_responses(\n",
    "        recs_df=recs,\n",
    "        user_features=users,\n",
    "        item_features=items_df,\n",
    "        action_models=cos_sim_model\n",
    "    ).select('user_id', 'item_id', 'relevance', 'response').cache()\n",
    "\n",
    "    ## update log with simulated responses\n",
    "    sim.update_log(true_resp, iteration=i)\n",
    "\n",
    "    ## calculate metrics\n",
    "    metrics.append(evaluator(true_resp))\n",
    "\n",
    "    ## refit recommendation model\n",
    "    model._clear_cache()\n",
    "    train_log = sim.log.cache()\n",
    "    model.fit(\n",
    "        log=indexer.transform(\n",
    "            train_log.select('user_id', 'item_id', 'response')\\\n",
    "                     .withColumnRenamed('response', 'relevance')\n",
    "        )\n",
    "    )\n",
    "\n",
    "    users.unpersist()\n",
    "    # pairs.unpersist()\n",
    "    if log is not None:\n",
    "        log.unpersist()\n",
    "    recs.unpersist()\n",
    "    true_resp.unpersist()\n",
    "    train_log.unpersist()\n",
    "\n",
    "    print(f'Iteration {i} finished in {time.time() - iter_time} sec.')"
   ]
  },
  {
   "cell_type": "code",
   "execution_count": 10,
   "metadata": {},
   "outputs": [
    {
     "data": {
      "text/plain": [
       "(0.6, 1.01)"
      ]
     },
     "execution_count": 10,
     "metadata": {},
     "output_type": "execute_result"
    },
    {
     "data": {
      "image/png": "[encoded data removed]",
      "text/plain": [
       "<Figure size 640x480 with 1 Axes>"
      ]
     },
     "metadata": {},
     "output_type": "display_data"
    }
   ],
   "source": [
    "metrics_pdf = pd.DataFrame(metrics)\n",
    "\n",
    "%matplotlib inline\n",
    "import matplotlib.pyplot as plt\n",
    "\n",
    "plt.plot(metrics_pdf['NDCG@10'])\n",
    "plt.ylim(0.6, 1.01)"
   ]
  },
  {
   "cell_type": "code",
   "execution_count": null,
   "metadata": {},
   "outputs": [],
   "source": []
  }
 ],
 "metadata": {
  "kernelspec": {
   "display_name": "Python 3.8.13 ('simulator')",
   "language": "python",
   "name": "python3"
  },
  "language_info": {
   "codemirror_mode": {
    "name": "ipython",
    "version": 3
   },
   "file_extension": ".py",
   "mimetype": "text/x-python",
   "name": "python",
   "nbconvert_exporter": "python",
   "pygments_lexer": "ipython3",
   "version": "3.8.13"
  },
  "orig_nbformat": 4,
  "vscode": {
   "interpreter": {
    "hash": "0c23ac1ac3d03469769ffca4283c7852312778d94b2cbd9b1a60eeafc1c4055f"
   }
  }
 },
 "nbformat": 4,
 "nbformat_minor": 2
}
