{
 "cells": [
  {
   "cell_type": "code",
   "execution_count": 1,
   "metadata": {},
   "outputs": [
    {
     "name": "stderr",
     "output_type": "stream",
     "text": [
      "/data/home/anthony/.conda/envs/simulator_test1/lib/python3.8/site-packages/tqdm/auto.py:22: TqdmWarning: IProgress not found. Please update jupyter and ipywidgets. See https://ipywidgets.readthedocs.io/en/stable/user_install.html\n",
      "  from .autonotebook import tqdm as notebook_tqdm\n",
      "22/11/29 10:02:48 WARN NativeCodeLoader: Unable to load native-hadoop library for your platform... using builtin-java classes where applicable\n",
      "Using Spark's default log4j profile: org/apache/spark/log4j-defaults.properties\n",
      "Setting default log level to \"WARN\".\n",
      "To adjust logging level use sc.setLogLevel(newLevel). For SparkR, use setLogLevel(newLevel).\n",
      "22/11/29 10:02:48 WARN SparkConf: Note that spark.local.dir will be overridden by the value set by the cluster manager (via SPARK_LOCAL_DIRS in mesos/standalone/kubernetes and LOCAL_DIRS in YARN).\n"
     ]
    }
   ],
   "source": [
    "import random\n",
    "\n",
    "import pandas as pd\n",
    "import numpy as np\n",
    "\n",
    "from pyspark import SparkConf\n",
    "from pyspark.sql import SparkSession\n",
    "\n",
    "from replay.session_handler import State\n",
    "from simulator.utils import pandas_to_spark\n",
    "\n",
    "SPARK_LOCAL_DIR = '/data/home/anthony/tmp'\n",
    "CHECKPOINT_DIR = '/data/home/anthony/tmp/checkpoints'\n",
    "\n",
    "spark = SparkSession.builder\\\n",
    "    .appName('simulator')\\\n",
    "    .master('local[4]')\\\n",
    "    .config('spark.sql.shuffle.partitions', '4')\\\n",
    "    .config('spark.default.parallelism', '4')\\\n",
    "    .config('spark.driver.extraJavaOptions', '-XX:+UseG1GC')\\\n",
    "    .config('spark.executor.extraJavaOptions', '-XX:+UseG1GC')\\\n",
    "    .config('spark.sql.autoBroadcastJoinThreshold', '-1')\\\n",
    "    .config('spark.driver.memory', '4g')\\\n",
    "    .config('spark.local.dir', SPARK_LOCAL_DIR)\\\n",
    "    .getOrCreate()\n",
    "\n",
    "State(spark)\n",
    "\n",
    "np.random.seed(1234)\n",
    "\n",
    "users_df = pd.DataFrame(data=np.random.normal(1, 1, size=(10000, 35)), columns=[f'user_attr_{i}' for i in range(35)]) \n",
    "items_df = pd.DataFrame(data=np.random.normal(-1, 1, size=(2000, 35)), columns=[f'item_attr_{i}' for i in range(35)]) \n",
    "items_df.loc[random.sample(range(2000), 1000)] = np.random.normal(1, 1, size=(1000, 35))\n",
    "users_df['user_id'] = np.arange(len(users_df))\n",
    "items_df['item_id'] = np.arange(len(items_df))\n",
    "history_df_all = pd.DataFrame()\n",
    "history_df_all['user_id'] = np.random.randint(0, 10000, size=33000)\n",
    "history_df_all['item_id'] = np.random.randint(0, 2000, size=33000)\n",
    "history_df_all['relevance'] = 0\n",
    "\n",
    "users_matrix = users_df.values[history_df_all.values[:, 0], :-1]\n",
    "items_matrix = items_df.values[history_df_all.values[:, 1], :-1]\n",
    "dot = np.sum(users_matrix * items_matrix, axis=1)\n",
    "history_df_all['relevance'] = np.where(dot >= 0.5, 1, 0)\n",
    "history_df_all = history_df_all.drop_duplicates(subset=['user_id', 'item_id'], ignore_index=True)\n",
    "\n",
    "history_df_train = history_df_all.iloc[:30000]\n",
    "history_df_val = history_df_all.iloc[30000:]\n",
    "\n",
    "users_df = pandas_to_spark(users_df)\n",
    "items_df = pandas_to_spark(items_df)\n",
    "history_df_train = pandas_to_spark(history_df_train)\n",
    "history_df_val = pandas_to_spark(history_df_val)"
   ]
  },
  {
   "cell_type": "markdown",
   "metadata": {},
   "source": [
    "## Divide users into strats"
   ]
  },
  {
   "cell_type": "code",
   "execution_count": 2,
   "metadata": {},
   "outputs": [],
   "source": [
    "import pyspark.sql.functions as sf\n",
    "\n",
    "\n",
    "## Divide users by half for demostration purposes\n",
    "users_cluster_1_df = users_df.filter(sf.col('user_id') < 5000)\n",
    "users_cluster_2_df = users_df.filter(sf.col('user_id') >= 5000)"
   ]
  },
  {
   "cell_type": "markdown",
   "metadata": {},
   "source": [
    "## Обучение генераторов"
   ]
  },
  {
   "cell_type": "code",
   "execution_count": 3,
   "metadata": {},
   "outputs": [
    {
     "name": "stderr",
     "output_type": "stream",
     "text": [
      "22/11/29 10:02:58 WARN package: Truncated the string representation of a plan since it was too large. This behavior can be adjusted by setting 'spark.sql.debug.maxToStringFields'.\n",
      "                                                                                \r"
     ]
    },
    {
     "name": "stdout",
     "output_type": "stream",
     "text": [
      "synth_strat_1 {'LogisticDetection': 1.0, 'SVCDetection': 0.89126399718994, 'KSTest': 0.9855257142857143, 'ContinuousKLDivergence': 0.9671574151768041}\n"
     ]
    },
    {
     "name": "stderr",
     "output_type": "stream",
     "text": [
      "                                                                                \r"
     ]
    },
    {
     "name": "stdout",
     "output_type": "stream",
     "text": [
      "synth_strat_2 {'LogisticDetection': 1.0, 'SVCDetection': 0.8700744876708597, 'KSTest': 0.9846000000000001, 'ContinuousKLDivergence': 0.9670461996009401}\n"
     ]
    },
    {
     "name": "stderr",
     "output_type": "stream",
     "text": [
      "                                                                                \r"
     ]
    }
   ],
   "source": [
    "import warnings\n",
    "warnings.filterwarnings(\"ignore\")\n",
    "\n",
    "from simulator.modules import RealDataGenerator, SDVDataGenerator, CompositeGenerator\n",
    "from simulator.modules import evaluate_synthetic\n",
    "\n",
    "generator_1 = SDVDataGenerator(\n",
    "    label='synth_strat_1',\n",
    "    id_column_name='user_id',\n",
    "    model_name='gaussiancopula',\n",
    "    parallelization_level=4,\n",
    "    device_name='cpu',\n",
    "    seed=1234\n",
    ")\n",
    "generator_2 = SDVDataGenerator(\n",
    "    label='synth_strat_2',\n",
    "    id_column_name='user_id',\n",
    "    model_name='gaussiancopula',\n",
    "    parallelization_level=4,\n",
    "    device_name='cpu',\n",
    "    seed=1234\n",
    ")\n",
    "\n",
    "items_generator = RealDataGenerator(label='items_real', seed=1234)\n",
    "\n",
    "generator_1.fit(users_cluster_1_df.drop('user_id'))\n",
    "generator_2.fit(users_cluster_2_df.drop('user_id'))\n",
    "items_generator.fit(items_df)\n",
    "\n",
    "for g, d in zip([generator_1, generator_2], [users_cluster_1_df, users_cluster_2_df]):\n",
    "    print(g.getLabel(), evaluate_synthetic(g.generate(d.count()).drop('user_id'), d.drop('user_id')))\n",
    "\n",
    "users_com_generator = CompositeGenerator(\n",
    "    generators=[generator_1, generator_2],\n",
    "    label='users_composite',\n",
    "    weights=[0.5, 0.5]\n",
    ")\n",
    "users_com_generator.generate(10000)"
   ]
  },
  {
   "cell_type": "markdown",
   "metadata": {},
   "source": [
    "## Simulator initialization"
   ]
  },
  {
   "cell_type": "code",
   "execution_count": 4,
   "metadata": {},
   "outputs": [],
   "source": [
    "from simulator.modules import Simulator\n",
    "\n",
    "sim = Simulator(\n",
    "    user_gen=users_com_generator,\n",
    "    item_gen=items_generator,\n",
    "    data_dir=f'{CHECKPOINT_DIR}/pipeline',\n",
    "    user_key_col='user_id',\n",
    "    item_key_col='item_id',\n",
    "    spark_session=spark\n",
    ")"
   ]
  },
  {
   "cell_type": "markdown",
   "metadata": {},
   "source": [
    "## Response function"
   ]
  },
  {
   "cell_type": "code",
   "execution_count": 5,
   "metadata": {},
   "outputs": [],
   "source": [
    "from pyspark.ml.feature import VectorAssembler\n",
    "from pyspark.ml import PipelineModel\n",
    "from simulator.response import CosineSimilatiry, BernoulliResponse, NoiseResponse, ParametricResponseFunction\n",
    "\n",
    "\n",
    "va_users = VectorAssembler(\n",
    "    inputCols=users_df.columns[:-1],\n",
    "    outputCol='features_usr'\n",
    ")\n",
    "\n",
    "va_items = VectorAssembler(\n",
    "    inputCols=items_df.columns[:-1],\n",
    "    outputCol='features_itm'\n",
    ")\n",
    "\n",
    "cos_sim = CosineSimilatiry(\n",
    "    inputCols=[\"features_usr\", \"features_itm\"],\n",
    "    outputCol=\"cosine_proba\"\n",
    ")\n",
    "\n",
    "noise_resp = NoiseResponse(mu=0.5, sigma=0.2, outputCol='noise_proba', seed=1234)\n",
    "\n",
    "resp_func = ParametricResponseFunction(\n",
    "    inputCols=['cosine_proba', 'noise_proba'],\n",
    "    outputCol='proba',\n",
    "    weights=[1.0, 0.0]\n",
    ")\n",
    "br = BernoulliResponse(inputCol='proba', outputCol='response')\n",
    "\n",
    "cos_sim_model = PipelineModel(\n",
    "    stages=[\n",
    "        va_users,\n",
    "        va_items,\n",
    "        cos_sim,\n",
    "        noise_resp,\n",
    "        resp_func,\n",
    "        br\n",
    "    ]\n",
    ")"
   ]
  },
  {
   "cell_type": "code",
   "execution_count": 6,
   "metadata": {},
   "outputs": [
    {
     "name": "stderr",
     "output_type": "stream",
     "text": [
      "                                                                                \r"
     ]
    },
    {
     "data": {
      "text/plain": [
       "{'areaUnderROC': 0.999999608882207, 'areaUnderPR': 0.9999995524577757}"
      ]
     },
     "execution_count": 6,
     "metadata": {},
     "output_type": "execute_result"
    }
   ],
   "source": [
    "from simulator.modules import EvaluateMetrics\n",
    "\n",
    "test_df = history_df_train.join(users_df, 'user_id', 'left')\\\n",
    "                          .join(items_df, 'item_id', 'left')\n",
    "\n",
    "lr_eval = EvaluateMetrics(\n",
    "    userKeyCol='user_id',\n",
    "    itemKeyCol='item_id',\n",
    "    predictionCol='proba',\n",
    "    labelCol='relevance',\n",
    "    mllib_metrics=['areaUnderROC', 'areaUnderPR']\n",
    ")\n",
    "lr_eval(cos_sim_model.transform(test_df))"
   ]
  },
  {
   "cell_type": "markdown",
   "metadata": {},
   "source": [
    "## Recommendation algorithm training"
   ]
  },
  {
   "cell_type": "code",
   "execution_count": 7,
   "metadata": {},
   "outputs": [
    {
     "name": "stderr",
     "output_type": "stream",
     "text": [
      "22/11/29 10:05:41 WARN HintErrorLogger: A join hint (strategy=broadcast) is specified but it is not part of a join relation.\n",
      "22/11/29 10:05:41 WARN HintErrorLogger: A join hint (strategy=broadcast) is specified but it is not part of a join relation.\n",
      "22/11/29 10:05:42 WARN HintErrorLogger: A join hint (strategy=broadcast) is specified but it is not part of a join relation.\n",
      "22/11/29 10:05:42 WARN HintErrorLogger: A join hint (strategy=broadcast) is specified but it is not part of a join relation.\n"
     ]
    }
   ],
   "source": [
    "from replay.data_preparator import Indexer\n",
    "\n",
    "indexer = Indexer(user_col='user_id', item_col='item_id')\n",
    "indexer.fit(users=users_com_generator.sample(1.0), items=items_df)\n",
    "\n",
    "from replay.models import UCB\n",
    "\n",
    "model = UCB(sample=True)\n",
    "model.fit(log=indexer.transform(history_df_train.limit(1)))"
   ]
  },
  {
   "cell_type": "code",
   "execution_count": 8,
   "metadata": {},
   "outputs": [],
   "source": [
    "from simulator.modules import EvaluateMetrics\n",
    "from replay.metrics import NDCG, Precision, Recall\n",
    "\n",
    "evaluator = EvaluateMetrics(\n",
    "    userKeyCol='user_id',\n",
    "    itemKeyCol='item_id',\n",
    "    predictionCol='relevance',\n",
    "    labelCol='response',\n",
    "    replay_label_filter=1.0,\n",
    "    replay_metrics={NDCG() : 10}\n",
    ")\n",
    "\n",
    "spark.sparkContext.setLogLevel('ERROR')"
   ]
  },
  {
   "cell_type": "code",
   "execution_count": 9,
   "metadata": {},
   "outputs": [
    {
     "name": "stderr",
     "output_type": "stream",
     "text": [
      "                                                                                \r"
     ]
    },
    {
     "name": "stdout",
     "output_type": "stream",
     "text": [
      "Iteration 0 finished in 19.233423709869385 sec.\n",
      "Iteration 1 finished in 13.708597183227539 sec.\n"
     ]
    },
    {
     "name": "stderr",
     "output_type": "stream",
     "text": [
      "                                                                                \r"
     ]
    },
    {
     "name": "stdout",
     "output_type": "stream",
     "text": [
      "Iteration 2 finished in 13.541823387145996 sec.\n",
      "Iteration 3 finished in 13.027352333068848 sec.\n",
      "Iteration 4 finished in 13.25719690322876 sec.\n",
      "Iteration 5 finished in 12.813174724578857 sec.\n",
      "Iteration 6 finished in 12.585135459899902 sec.\n",
      "Iteration 7 finished in 13.16139554977417 sec.\n",
      "Iteration 8 finished in 12.964518308639526 sec.\n",
      "Iteration 9 finished in 12.951754331588745 sec.\n",
      "Iteration 10 finished in 12.88650894165039 sec.\n",
      "Iteration 11 finished in 13.925736665725708 sec.\n",
      "Iteration 12 finished in 13.095169305801392 sec.\n",
      "Iteration 13 finished in 13.09789752960205 sec.\n"
     ]
    },
    {
     "name": "stderr",
     "output_type": "stream",
     "text": [
      "                                                                                \r"
     ]
    },
    {
     "name": "stdout",
     "output_type": "stream",
     "text": [
      "Iteration 14 finished in 13.032402992248535 sec.\n",
      "Iteration 15 finished in 13.328567266464233 sec.\n",
      "Iteration 16 finished in 13.74241590499878 sec.\n",
      "Iteration 17 finished in 12.921535730361938 sec.\n",
      "Iteration 18 finished in 13.43843698501587 sec.\n",
      "Iteration 19 finished in 13.230594635009766 sec.\n",
      "Iteration 20 finished in 13.373889923095703 sec.\n",
      "Iteration 21 finished in 13.79914402961731 sec.\n",
      "Iteration 22 finished in 13.900254249572754 sec.\n",
      "Iteration 23 finished in 13.193178415298462 sec.\n",
      "Iteration 24 finished in 14.096498727798462 sec.\n",
      "Iteration 25 finished in 13.41923189163208 sec.\n",
      "Iteration 26 finished in 13.120378971099854 sec.\n",
      "Iteration 27 finished in 13.450253009796143 sec.\n",
      "Iteration 28 finished in 13.461100816726685 sec.\n",
      "Iteration 29 finished in 13.556114435195923 sec.\n",
      "Iteration 30 finished in 13.225887537002563 sec.\n"
     ]
    },
    {
     "name": "stderr",
     "output_type": "stream",
     "text": [
      "                                                                                \r"
     ]
    },
    {
     "name": "stdout",
     "output_type": "stream",
     "text": [
      "Iteration 31 finished in 13.572283744812012 sec.\n",
      "Iteration 32 finished in 13.09179425239563 sec.\n",
      "Iteration 33 finished in 13.53775954246521 sec.\n",
      "Iteration 34 finished in 14.19674277305603 sec.\n",
      "Iteration 35 finished in 14.423258304595947 sec.\n"
     ]
    },
    {
     "name": "stderr",
     "output_type": "stream",
     "text": [
      "                                                                                \r"
     ]
    },
    {
     "name": "stdout",
     "output_type": "stream",
     "text": [
      "Iteration 36 finished in 14.58193302154541 sec.\n"
     ]
    },
    {
     "name": "stderr",
     "output_type": "stream",
     "text": [
      "                                                                                \r"
     ]
    },
    {
     "name": "stdout",
     "output_type": "stream",
     "text": [
      "Iteration 37 finished in 14.039785385131836 sec.\n"
     ]
    },
    {
     "name": "stderr",
     "output_type": "stream",
     "text": [
      "                                                                                \r"
     ]
    },
    {
     "name": "stdout",
     "output_type": "stream",
     "text": [
      "Iteration 38 finished in 14.425009727478027 sec.\n"
     ]
    },
    {
     "name": "stderr",
     "output_type": "stream",
     "text": [
      "                                                                                \r"
     ]
    },
    {
     "name": "stdout",
     "output_type": "stream",
     "text": [
      "Iteration 39 finished in 14.091775178909302 sec.\n"
     ]
    },
    {
     "name": "stderr",
     "output_type": "stream",
     "text": [
      "                                                                                \r"
     ]
    },
    {
     "name": "stdout",
     "output_type": "stream",
     "text": [
      "Iteration 40 finished in 14.726505279541016 sec.\n"
     ]
    },
    {
     "name": "stderr",
     "output_type": "stream",
     "text": [
      "                                                                                \r"
     ]
    },
    {
     "name": "stdout",
     "output_type": "stream",
     "text": [
      "Iteration 41 finished in 13.792420148849487 sec.\n"
     ]
    },
    {
     "name": "stderr",
     "output_type": "stream",
     "text": [
      "                                                                                \r"
     ]
    },
    {
     "name": "stdout",
     "output_type": "stream",
     "text": [
      "Iteration 42 finished in 14.807380676269531 sec.\n"
     ]
    },
    {
     "name": "stderr",
     "output_type": "stream",
     "text": [
      "                                                                                \r"
     ]
    },
    {
     "name": "stdout",
     "output_type": "stream",
     "text": [
      "Iteration 43 finished in 14.74394941329956 sec.\n"
     ]
    },
    {
     "name": "stderr",
     "output_type": "stream",
     "text": [
      "                                                                                \r"
     ]
    },
    {
     "name": "stdout",
     "output_type": "stream",
     "text": [
      "Iteration 44 finished in 14.335069417953491 sec.\n"
     ]
    },
    {
     "name": "stderr",
     "output_type": "stream",
     "text": [
      "                                                                                \r"
     ]
    },
    {
     "name": "stdout",
     "output_type": "stream",
     "text": [
      "Iteration 45 finished in 14.576973915100098 sec.\n"
     ]
    },
    {
     "name": "stderr",
     "output_type": "stream",
     "text": [
      "                                                                                \r"
     ]
    },
    {
     "name": "stdout",
     "output_type": "stream",
     "text": [
      "Iteration 46 finished in 14.938384771347046 sec.\n"
     ]
    },
    {
     "name": "stderr",
     "output_type": "stream",
     "text": [
      "                                                                                \r"
     ]
    },
    {
     "name": "stdout",
     "output_type": "stream",
     "text": [
      "Iteration 47 finished in 14.849287033081055 sec.\n"
     ]
    },
    {
     "name": "stderr",
     "output_type": "stream",
     "text": [
      "                                                                                \r"
     ]
    },
    {
     "name": "stdout",
     "output_type": "stream",
     "text": [
      "Iteration 48 finished in 15.013909816741943 sec.\n"
     ]
    },
    {
     "name": "stderr",
     "output_type": "stream",
     "text": [
      "                                                                                \r"
     ]
    },
    {
     "name": "stdout",
     "output_type": "stream",
     "text": [
      "Iteration 49 finished in 14.30401086807251 sec.\n"
     ]
    }
   ],
   "source": [
    "import time\n",
    "from replay.utils import get_top_k_recs\n",
    "\n",
    "metrics = []\n",
    "for i in range(50):\n",
    "    iter_time = time.time()\n",
    "    ## sample a bunch of users\n",
    "    users = sim.sample_users(0.02).cache()\n",
    "\n",
    "    log = sim.get_log(users)\n",
    "    if log is None:\n",
    "        log = history_df_train.limit(1)\n",
    "    log = log.cache()\n",
    "\n",
    "    recs = model.predict(\n",
    "        log=indexer.transform(log),\n",
    "        k=10,\n",
    "        users=indexer.transform(users),\n",
    "        items=indexer.transform(items_df)\n",
    "    )\n",
    "    recs = indexer.inverse_transform(recs).cache()\n",
    "\n",
    "    ## simulate responses on recommended items\n",
    "    true_resp = sim.sample_responses(\n",
    "        recs_df=recs,\n",
    "        user_features=users,\n",
    "        item_features=items_df,\n",
    "        action_models=cos_sim_model\n",
    "    ).select('user_id', 'item_id', 'relevance', 'response').cache()\n",
    "\n",
    "    ## update log with simulated responses\n",
    "    sim.update_log(true_resp, iteration=i)\n",
    "\n",
    "    ## calculate metrics\n",
    "    metrics.append(evaluator(true_resp))\n",
    "\n",
    "    ## refit recommendation model\n",
    "    model._clear_cache()\n",
    "    train_log = sim.log.cache()\n",
    "    model.fit(\n",
    "        log=indexer.transform(\n",
    "            train_log.select('user_id', 'item_id', 'response')\\\n",
    "                     .withColumnRenamed('response', 'relevance')\n",
    "        )\n",
    "    )\n",
    "\n",
    "    users.unpersist()\n",
    "    # pairs.unpersist()\n",
    "    if log is not None:\n",
    "        log.unpersist()\n",
    "    recs.unpersist()\n",
    "    true_resp.unpersist()\n",
    "    train_log.unpersist()\n",
    "\n",
    "    print(f'Iteration {i} finished in {time.time() - iter_time} sec.')"
   ]
  },
  {
   "cell_type": "code",
   "execution_count": 10,
   "metadata": {},
   "outputs": [
    {
     "data": {
      "text/plain": [
       "(0.6, 1.01)"
      ]
     },
     "execution_count": 10,
     "metadata": {},
     "output_type": "execute_result"
    },
    {
     "data": {
      "image/png": "[encoded data removed]",
      "text/plain": [
       "<Figure size 640x480 with 1 Axes>"
      ]
     },
     "metadata": {},
     "output_type": "display_data"
    }
   ],
   "source": [
    "metrics_pdf = pd.DataFrame(metrics)\n",
    "\n",
    "%matplotlib inline\n",
    "import matplotlib.pyplot as plt\n",
    "\n",
    "plt.plot(metrics_pdf['NDCG@10'])\n",
    "plt.ylim(0.6, 1.01)"
   ]
  },
  {
   "cell_type": "code",
   "execution_count": null,
   "metadata": {},
   "outputs": [],
   "source": []
  }
 ],
 "metadata": {
  "kernelspec": {
   "display_name": "Python 3.8.15 ('simulator_test1')",
   "language": "python",
   "name": "python3"
  },
  "language_info": {
   "codemirror_mode": {
    "name": "ipython",
    "version": 3
   },
   "file_extension": ".py",
   "mimetype": "text/x-python",
   "name": "python",
   "nbconvert_exporter": "python",
   "pygments_lexer": "ipython3",
   "version": "3.8.15"
  },
  "orig_nbformat": 4,
  "vscode": {
   "interpreter": {
    "hash": "c6b6b90ef95efe8079a3f0ef22bd6f68f431f523d74a0d8953a93119eedfde3b"
   }
  }
 },
 "nbformat": 4,
 "nbformat_minor": 2
}
