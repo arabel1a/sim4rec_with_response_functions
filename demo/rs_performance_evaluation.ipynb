{
 "cells": [
  {
   "cell_type": "markdown",
   "metadata": {},
   "source": [
    "# RS evaluation with a custom response model"
   ]
  },
  {
   "cell_type": "markdown",
   "metadata": {
    "cellId": "4st89ea75i9z0offn8c4d",
    "execution_id": "69ada54d-c332-4dd2-9b9a-72f16d1bfb76"
   },
   "source": [
    "This tutorial shows how to use Sim4Rec for the following purposes:\n",
    "- Generate synthetic data based on real data; \n",
    "- Create a custom response function;\n",
    "- Measure quality with a custom metric;\n",
    "- Create a simple simulation pipeline for long-term performance evaluation of a recommender system.\n",
    "\n",
    "### Users & Items\n",
    "We create 10000 users and 200 items, then generate 5000 synthetic users and 100 synthetic items by random sampling.\n",
    "\n",
    "### Recommender Model\n",
    "We use Upper Confidence Bound (UCB) algorithm as the recommender.\n",
    "\n",
    "### Response Function\n",
    "We use a simple response function to sample responses to recommended items. The probability of a response is fixed and and is equal to one tenth of the last digit of an item id. So there are more popular items with a higher probability of a response.\n",
    "\n",
    "### Quality Metric\n",
    "We measure the quality of recommendations as the average number of positive responses per user.\n",
    "\n",
    "### Simulation Cycle\n",
    "We evaluate the long-term performance of the recommender system in the simulation cycle by sampling responses to recommended items, retraining the recommender model, and evaluating it in each iteration of the cycle. "
   ]
  },
  {
   "cell_type": "markdown",
   "metadata": {
    "cellId": "a23y5u7l746q73y0tqxss",
    "execution_id": "b0740c39-9cda-411d-b832-490de8695080"
   },
   "source": [
    "## Imports and preparations"
   ]
  },
  {
   "cell_type": "code",
   "execution_count": 1,
   "metadata": {},
   "outputs": [],
   "source": [
    "import os\n",
    "import sys\n",
    "os.environ[\"JAVA_HOME\"] = \"/home/jovyan/ivanova/env39_sim4rec_demo_new\"\n",
    "os.environ[\"PYSPARK_PYTHON\"] = sys.executable\n",
    "os.environ[\"PYSPARK_DRIVER_PYTHON\"] = sys.executable\n",
    "os.environ[\"CUDA_LAUNCH_BLOCKING\"] = \"1\"\n",
    "os.environ[\"OMP_NUM_THREADS\"] = \"32\"\n",
    "os.environ[\"NUMBA_NUM_THREADS\"] = \"4\""
   ]
  },
  {
   "cell_type": "code",
   "execution_count": 2,
   "metadata": {
    "cellId": "jlz0twee16goe1fisulv5"
   },
   "outputs": [],
   "source": [
    "import random\n",
    "import time\n",
    "\n",
    "import numpy as np\n",
    "import pandas as pd\n",
    "import warnings\n",
    "\n",
    "from pyspark import SparkConf\n",
    "from pyspark.ml import Pipeline\n",
    "from pyspark.sql import SparkSession\n",
    "import pyspark.sql.functions as sf\n",
    "\n",
    "from experiments.response_models.utils import plot_metric, calc_metric\n",
    "from sim4rec.modules import RealDataGenerator\n",
    "from sim4rec.modules import Simulator\n",
    "from sim4rec.recommenders.ucb import UCB\n",
    "from sim4rec.response import BernoulliResponse,  ActionModelTransformer\n",
    "\n",
    "warnings.filterwarnings(\"ignore\") "
   ]
  },
  {
   "cell_type": "code",
   "execution_count": 3,
   "metadata": {},
   "outputs": [],
   "source": [
    "# path to spark tmp folder and simulator checkpoints\n",
    "SPARK_LOCAL_DIR = './tmp/task_1'\n",
    "CHECKPOINT_DIR = './tmp/task_1_checkpoints'"
   ]
  },
  {
   "cell_type": "code",
   "execution_count": 4,
   "metadata": {
    "cellId": "ku55idy38nqtlrc187ucq"
   },
   "outputs": [],
   "source": [
    "%%bash -s \"$CHECKPOINT_DIR\" \"$SPARK_LOCAL_DIR\"\n",
    "# Simulator keeps history of interactions between users and recommender system\n",
    "# To re-run the simulation cycle or start a new one, clear the directory or use a different CHECKPOINT_DIR\n",
    "rm -rf $1 $2"
   ]
  },
  {
   "cell_type": "code",
   "execution_count": 5,
   "metadata": {
    "cellId": "v1uc08ym8h8d7qxpmsop4"
   },
   "outputs": [
    {
     "name": "stderr",
     "output_type": "stream",
     "text": [
      "WARNING: An illegal reflective access operation has occurred\n",
      "WARNING: Illegal reflective access by org.apache.spark.unsafe.Platform (file:/home/jovyan/ivanova/env39_sim4rec_demo_new/lib/python3.9/site-packages/pyspark/jars/spark-unsafe_2.12-3.1.3.jar) to constructor java.nio.DirectByteBuffer(long,int)\n",
      "WARNING: Please consider reporting this to the maintainers of org.apache.spark.unsafe.Platform\n",
      "WARNING: Use --illegal-access=warn to enable warnings of further illegal reflective access operations\n",
      "WARNING: All illegal access operations will be denied in a future release\n",
      "24/10/04 11:40:18 WARN NativeCodeLoader: Unable to load native-hadoop library for your platform... using builtin-java classes where applicable\n",
      "Using Spark's default log4j profile: org/apache/spark/log4j-defaults.properties\n",
      "Setting default log level to \"WARN\".\n",
      "To adjust logging level use sc.setLogLevel(newLevel). For SparkR, use setLogLevel(newLevel).\n",
      "24/10/04 11:40:18 WARN SparkConf: Note that spark.local.dir will be overridden by the value set by the cluster manager (via SPARK_LOCAL_DIRS in mesos/standalone/kubernetes and LOCAL_DIRS in YARN).\n",
      "24/10/04 11:40:19 WARN Utils: Service 'SparkUI' could not bind on port 4040. Attempting port 4041.\n"
     ]
    }
   ],
   "source": [
    "NUM_THREADS = 4\n",
    "\n",
    "spark = SparkSession.builder\\\n",
    "    .appName('simulator')\\\n",
    "    .master(f'local[{NUM_THREADS}]')\\\n",
    "    .config('spark.sql.shuffle.partitions', f'{NUM_THREADS * 3}')\\\n",
    "    .config('spark.default.parallelism', f'{NUM_THREADS * 3}')\\\n",
    "    .config('spark.driver.extraJavaOptions', '-XX:+UseG1GC')\\\n",
    "    .config('spark.executor.extraJavaOptions', '-XX:+UseG1GC')\\\n",
    "    .config('spark.local.dir', SPARK_LOCAL_DIR)\\\n",
    "    .getOrCreate()\n",
    "\n",
    "spark.sparkContext.setLogLevel('ERROR')"
   ]
  },
  {
   "cell_type": "code",
   "execution_count": 6,
   "metadata": {
    "cellId": "9vf3sqixr4vgau073549pv"
   },
   "outputs": [],
   "source": [
    "NUM_USERS = 5000 # number of generated users \n",
    "NUM_ITEMS = 100 # number of generated items\n",
    "K = 5 # number of predicted items\n",
    "NUM_ITER = 50 # number of iterations\n",
    "SEED = 1234\n",
    "np.random.seed(SEED)"
   ]
  },
  {
   "cell_type": "markdown",
   "metadata": {
    "cellId": "ffl9l89trncxzwbk5zq7gn",
    "execution_id": "cbbf5328-af84-4368-957e-3c000bd80332"
   },
   "source": [
    "## Data generation"
   ]
  },
  {
   "cell_type": "markdown",
   "metadata": {},
   "source": [
    "We create 10000 users and 200 items, fit RealDataGenerator to them and then generate 5000 users and 100 items by random sampling. Users and items generation for industrial size data can be done in a similar way."
   ]
  },
  {
   "cell_type": "code",
   "execution_count": 7,
   "metadata": {
    "cellId": "zh9qtijcn5143mi4887od"
   },
   "outputs": [
    {
     "name": "stderr",
     "output_type": "stream",
     "text": [
      "                                                                                \r"
     ]
    },
    {
     "data": {
      "text/plain": [
       "200"
      ]
     },
     "execution_count": 7,
     "metadata": {},
     "output_type": "execute_result"
    }
   ],
   "source": [
    "users = spark.createDataFrame([[x] for x in range(NUM_USERS * 2)], schema=[\"user_idx\"])\n",
    "items = spark.createDataFrame([[x] for x in range(NUM_ITEMS * 2)], schema=[\"item_idx\"])\n",
    "items.count()"
   ]
  },
  {
   "cell_type": "code",
   "execution_count": 8,
   "metadata": {},
   "outputs": [
    {
     "data": {
      "text/html": [
       "<div>\n",
       "<style scoped>\n",
       "    .dataframe tbody tr th:only-of-type {\n",
       "        vertical-align: middle;\n",
       "    }\n",
       "\n",
       "    .dataframe tbody tr th {\n",
       "        vertical-align: top;\n",
       "    }\n",
       "\n",
       "    .dataframe thead th {\n",
       "        text-align: right;\n",
       "    }\n",
       "</style>\n",
       "<table border=\"1\" class=\"dataframe\">\n",
       "  <thead>\n",
       "    <tr style=\"text-align: right;\">\n",
       "      <th></th>\n",
       "      <th>item_idx</th>\n",
       "    </tr>\n",
       "  </thead>\n",
       "  <tbody>\n",
       "    <tr>\n",
       "      <th>0</th>\n",
       "      <td>0</td>\n",
       "    </tr>\n",
       "    <tr>\n",
       "      <th>1</th>\n",
       "      <td>1</td>\n",
       "    </tr>\n",
       "  </tbody>\n",
       "</table>\n",
       "</div>"
      ],
      "text/plain": [
       "   item_idx\n",
       "0         0\n",
       "1         1"
      ]
     },
     "execution_count": 8,
     "metadata": {},
     "output_type": "execute_result"
    }
   ],
   "source": [
    "items.limit(2).toPandas()"
   ]
  },
  {
   "cell_type": "code",
   "execution_count": 9,
   "metadata": {
    "cellId": "3btpzal8hblukqhq46asd"
   },
   "outputs": [
    {
     "data": {
      "text/plain": [
       "100"
      ]
     },
     "execution_count": 9,
     "metadata": {},
     "output_type": "execute_result"
    }
   ],
   "source": [
    "item_generator = RealDataGenerator(label='items_real', seed=SEED)\n",
    "user_generator = RealDataGenerator(label='users_real', seed=SEED)\n",
    "\n",
    "item_generator.fit(items)\n",
    "user_generator.fit(users)\n",
    "\n",
    "item_generator.generate(NUM_ITEMS)\n",
    "user_generator.generate(NUM_USERS)\n",
    "item_generator.getDataSize()"
   ]
  },
  {
   "cell_type": "markdown",
   "metadata": {
    "cellId": "1crcvslqi2qm4dnavh3obq",
    "execution_id": "2c640f43-9dd5-445d-9511-d0d100fc830c"
   },
   "source": [
    "# One iteration of simulation cycle step by step"
   ]
  },
  {
   "cell_type": "markdown",
   "metadata": {
    "cellId": "q2oio9pylodwwu9qptdom",
    "execution_id": "0f252faf-52c4-4a99-ac83-b425c14d055e"
   },
   "source": [
    "## (1) Choise of users"
   ]
  },
  {
   "cell_type": "markdown",
   "metadata": {},
   "source": [
    "Sample 0.1 of generated users."
   ]
  },
  {
   "cell_type": "code",
   "execution_count": 10,
   "metadata": {
    "cellId": "erkzmjzvo06nl5bok1qv5n"
   },
   "outputs": [
    {
     "data": {
      "text/plain": [
       "504"
      ]
     },
     "execution_count": 10,
     "metadata": {},
     "output_type": "execute_result"
    }
   ],
   "source": [
    "user_generator.sample(0.1).count()"
   ]
  },
  {
   "cell_type": "markdown",
   "metadata": {
    "cellId": "tnbcus0l6hcbvoht2rnge",
    "execution_id": "a45bc1e9-f284-4702-bfeb-d525f9349d20"
   },
   "source": [
    "## (2) Choise of items\n",
    "During the simulation cycle, all 100 items are available at each iteration."
   ]
  },
  {
   "cell_type": "markdown",
   "metadata": {
    "cellId": "4kfl2on9vg46431mkek4ot",
    "execution_id": "85a06070-5f73-407a-ad84-ff781e7d04fb"
   },
   "source": [
    "## (3) Recommender model"
   ]
  },
  {
   "cell_type": "markdown",
   "metadata": {},
   "source": [
    "UCB model should be fitted to historical data before it can be refitted in cycle. Let's assume we had one interaction for simplicity."
   ]
  },
  {
   "cell_type": "code",
   "execution_count": 11,
   "metadata": {
    "cellId": "kck71xz164nwlq1tlo81d"
   },
   "outputs": [
    {
     "name": "stderr",
     "output_type": "stream",
     "text": [
      "                                                                                \r"
     ]
    },
    {
     "data": {
      "text/html": [
       "<div>\n",
       "<style scoped>\n",
       "    .dataframe tbody tr th:only-of-type {\n",
       "        vertical-align: middle;\n",
       "    }\n",
       "\n",
       "    .dataframe tbody tr th {\n",
       "        vertical-align: top;\n",
       "    }\n",
       "\n",
       "    .dataframe thead th {\n",
       "        text-align: right;\n",
       "    }\n",
       "</style>\n",
       "<table border=\"1\" class=\"dataframe\">\n",
       "  <thead>\n",
       "    <tr style=\"text-align: right;\">\n",
       "      <th></th>\n",
       "      <th>user_idx</th>\n",
       "      <th>item_idx</th>\n",
       "      <th>relevance</th>\n",
       "    </tr>\n",
       "  </thead>\n",
       "  <tbody>\n",
       "    <tr>\n",
       "      <th>0</th>\n",
       "      <td>0</td>\n",
       "      <td>195</td>\n",
       "      <td>0.005</td>\n",
       "    </tr>\n",
       "    <tr>\n",
       "      <th>1</th>\n",
       "      <td>0</td>\n",
       "      <td>76</td>\n",
       "      <td>0.005</td>\n",
       "    </tr>\n",
       "    <tr>\n",
       "      <th>2</th>\n",
       "      <td>1</td>\n",
       "      <td>35</td>\n",
       "      <td>0.005</td>\n",
       "    </tr>\n",
       "    <tr>\n",
       "      <th>3</th>\n",
       "      <td>1</td>\n",
       "      <td>36</td>\n",
       "      <td>0.005</td>\n",
       "    </tr>\n",
       "  </tbody>\n",
       "</table>\n",
       "</div>"
      ],
      "text/plain": [
       "   user_idx  item_idx  relevance\n",
       "0         0       195      0.005\n",
       "1         0        76      0.005\n",
       "2         1        35      0.005\n",
       "3         1        36      0.005"
      ]
     },
     "execution_count": 11,
     "metadata": {},
     "output_type": "execute_result"
    }
   ],
   "source": [
    "# initialization of recommender model\n",
    "rs_model = UCB(sample=True, seed=SEED)\n",
    "# fit recommender model\n",
    "rs_model.fit(\n",
    "    log=users.limit(1).crossJoin(items.limit(1)).withColumn(\"relevance\", sf.lit(1))\n",
    ")\n",
    "# get top k items for each user \n",
    "pred = rs_model.predict(log=None, users=users.limit(2), items=items, k=2)\n",
    "pred.limit(5).toPandas()"
   ]
  },
  {
   "cell_type": "markdown",
   "metadata": {
    "cellId": "6tn53xv939c0ph8cth3961",
    "execution_id": "2c95f94f-97cc-4007-a971-d340645e0f90"
   },
   "source": [
    "## (4) Response Function"
   ]
  },
  {
   "cell_type": "markdown",
   "metadata": {
    "cellId": "7m11axprgbnc8wgrnr20km",
    "execution_id": "1bf409d8-8df8-4ff6-a96d-eab7b07f54d8"
   },
   "source": [
    "The response function in this tutorial is constant over time and very simple. The response is binary, response == 1 means the user bought the item.  \n",
    "\n",
    "The probability of a response is fixed and is equal to one tenth of the last digit of an `item_idx`. So there are more popular items with higher probability of a response and a simple recommender model should be able to identify them.\n",
    "\n",
    "The response function takes a dataframe with the columns `user_idx`, `item_idx`, `relevance` and returns a dataframe with the columns `user_idx`, `item_idx`, `relevance`, `response_proba`, `response`, adding the response column to the original columns. If the initial dataframe had other columns, they are returned as well."
   ]
  },
  {
   "cell_type": "code",
   "execution_count": 12,
   "metadata": {
    "tags": []
   },
   "outputs": [
    {
     "data": {
      "text/html": [
       "<div>\n",
       "<style scoped>\n",
       "    .dataframe tbody tr th:only-of-type {\n",
       "        vertical-align: middle;\n",
       "    }\n",
       "\n",
       "    .dataframe tbody tr th {\n",
       "        vertical-align: top;\n",
       "    }\n",
       "\n",
       "    .dataframe thead th {\n",
       "        text-align: right;\n",
       "    }\n",
       "</style>\n",
       "<table border=\"1\" class=\"dataframe\">\n",
       "  <thead>\n",
       "    <tr style=\"text-align: right;\">\n",
       "      <th></th>\n",
       "      <th>item_idx</th>\n",
       "      <th>response_proba</th>\n",
       "    </tr>\n",
       "  </thead>\n",
       "  <tbody>\n",
       "    <tr>\n",
       "      <th>0</th>\n",
       "      <td>0</td>\n",
       "      <td>0.0</td>\n",
       "    </tr>\n",
       "    <tr>\n",
       "      <th>1</th>\n",
       "      <td>1</td>\n",
       "      <td>0.1</td>\n",
       "    </tr>\n",
       "    <tr>\n",
       "      <th>2</th>\n",
       "      <td>2</td>\n",
       "      <td>0.2</td>\n",
       "    </tr>\n",
       "    <tr>\n",
       "      <th>3</th>\n",
       "      <td>3</td>\n",
       "      <td>0.3</td>\n",
       "    </tr>\n",
       "    <tr>\n",
       "      <th>4</th>\n",
       "      <td>4</td>\n",
       "      <td>0.4</td>\n",
       "    </tr>\n",
       "  </tbody>\n",
       "</table>\n",
       "</div>"
      ],
      "text/plain": [
       "   item_idx  response_proba\n",
       "0         0             0.0\n",
       "1         1             0.1\n",
       "2         2             0.2\n",
       "3         3             0.3\n",
       "4         4             0.4"
      ]
     },
     "execution_count": 12,
     "metadata": {},
     "output_type": "execute_result"
    }
   ],
   "source": [
    "# An example of calculating the probability of a response for the response model.\n",
    "items.limit(5).withColumn(\n",
    "    \"response_proba\", (sf.col(\"item_idx\") % sf.lit(10)) / sf.lit(10)\n",
    ").toPandas()"
   ]
  },
  {
   "cell_type": "code",
   "execution_count": 13,
   "metadata": {},
   "outputs": [],
   "source": [
    "class PopBasedTransformer(ActionModelTransformer):\n",
    "    def __init__(\n",
    "        self,\n",
    "        inputCol: str = None,\n",
    "        outputCol: str = None,\n",
    "    ):\n",
    "        \"\"\"\n",
    "        Class for the response function. \n",
    "        The probability of a response is fixed and \n",
    "        is equal to one tenth of the last digit of an item id from inputCol. \n",
    "        :param inputCol: Name of the item id column\n",
    "        :param outputCol: Name of the response probability column\n",
    "        :returns: dataframe with outputCol\n",
    "        \"\"\"\n",
    "        self.inputCol = inputCol\n",
    "        self.outputCol = outputCol\n",
    "\n",
    "    def _transform(self, dataframe):\n",
    "        return dataframe.withColumn(\n",
    "            self.outputCol, (sf.col(self.inputCol) % sf.lit(10)) / sf.lit(10)\n",
    "        )"
   ]
  },
  {
   "cell_type": "markdown",
   "metadata": {},
   "source": [
    "To construct the response function pipeline, we need to initialize PopBasedTransformer to get the response probability for each item and BernoulliResponse to model the non-deterministic behavior of the user."
   ]
  },
  {
   "cell_type": "code",
   "execution_count": 14,
   "metadata": {
    "cellId": "uayt15jraspro9gjta45f"
   },
   "outputs": [
    {
     "name": "stderr",
     "output_type": "stream",
     "text": [
      "                                                                                \r"
     ]
    },
    {
     "data": {
      "text/html": [
       "<div>\n",
       "<style scoped>\n",
       "    .dataframe tbody tr th:only-of-type {\n",
       "        vertical-align: middle;\n",
       "    }\n",
       "\n",
       "    .dataframe tbody tr th {\n",
       "        vertical-align: top;\n",
       "    }\n",
       "\n",
       "    .dataframe thead th {\n",
       "        text-align: right;\n",
       "    }\n",
       "</style>\n",
       "<table border=\"1\" class=\"dataframe\">\n",
       "  <thead>\n",
       "    <tr style=\"text-align: right;\">\n",
       "      <th></th>\n",
       "      <th>user_idx</th>\n",
       "      <th>item_idx</th>\n",
       "      <th>relevance</th>\n",
       "      <th>response_proba</th>\n",
       "      <th>response</th>\n",
       "    </tr>\n",
       "  </thead>\n",
       "  <tbody>\n",
       "    <tr>\n",
       "      <th>0</th>\n",
       "      <td>0</td>\n",
       "      <td>195</td>\n",
       "      <td>0.005</td>\n",
       "      <td>0.5</td>\n",
       "      <td>0</td>\n",
       "    </tr>\n",
       "    <tr>\n",
       "      <th>1</th>\n",
       "      <td>0</td>\n",
       "      <td>76</td>\n",
       "      <td>0.005</td>\n",
       "      <td>0.6</td>\n",
       "      <td>0</td>\n",
       "    </tr>\n",
       "    <tr>\n",
       "      <th>2</th>\n",
       "      <td>1</td>\n",
       "      <td>35</td>\n",
       "      <td>0.005</td>\n",
       "      <td>0.5</td>\n",
       "      <td>0</td>\n",
       "    </tr>\n",
       "    <tr>\n",
       "      <th>3</th>\n",
       "      <td>1</td>\n",
       "      <td>36</td>\n",
       "      <td>0.005</td>\n",
       "      <td>0.6</td>\n",
       "      <td>1</td>\n",
       "    </tr>\n",
       "  </tbody>\n",
       "</table>\n",
       "</div>"
      ],
      "text/plain": [
       "   user_idx  item_idx  relevance  response_proba  response\n",
       "0         0       195      0.005             0.5         0\n",
       "1         0        76      0.005             0.6         0\n",
       "2         1        35      0.005             0.5         0\n",
       "3         1        36      0.005             0.6         1"
      ]
     },
     "execution_count": 14,
     "metadata": {},
     "output_type": "execute_result"
    }
   ],
   "source": [
    "# initialization of response function\n",
    "popularity_model = PopBasedTransformer(inputCol=\"item_idx\", outputCol=\"response_proba\")\n",
    "# initialization of Bernoulli response sampling\n",
    "br = BernoulliResponse(inputCol=\"response_proba\", outputCol=\"response\", seed=SEED)\n",
    "# get response pipeline\n",
    "response_pipeline = Pipeline(stages=[popularity_model, br])\n",
    "# fit response pipeline\n",
    "response_model = response_pipeline.fit(items)\n",
    "# get users' responses on recommended items\n",
    "test_response = response_model.transform(pred)\n",
    "test_response.limit(5).toPandas()"
   ]
  },
  {
   "cell_type": "markdown",
   "metadata": {
    "cellId": "oklaxbiawagxloskdgy6g",
    "execution_id": "418b174f-f4be-49fe-88aa-585826871197"
   },
   "source": [
    "## (5) Fitting of recommender model on new data"
   ]
  },
  {
   "cell_type": "markdown",
   "metadata": {},
   "source": [
    "After receiving responses to recommendations, we can use this information to update the recommender model. To do this, we should rename column `response` to `relevance`."
   ]
  },
  {
   "cell_type": "code",
   "execution_count": 15,
   "metadata": {},
   "outputs": [
    {
     "name": "stderr",
     "output_type": "stream",
     "text": [
      "                                                                                \r"
     ]
    },
    {
     "data": {
      "text/html": [
       "<div>\n",
       "<style scoped>\n",
       "    .dataframe tbody tr th:only-of-type {\n",
       "        vertical-align: middle;\n",
       "    }\n",
       "\n",
       "    .dataframe tbody tr th {\n",
       "        vertical-align: top;\n",
       "    }\n",
       "\n",
       "    .dataframe thead th {\n",
       "        text-align: right;\n",
       "    }\n",
       "</style>\n",
       "<table border=\"1\" class=\"dataframe\">\n",
       "  <thead>\n",
       "    <tr style=\"text-align: right;\">\n",
       "      <th></th>\n",
       "      <th>user_idx</th>\n",
       "      <th>item_idx</th>\n",
       "      <th>relevance</th>\n",
       "    </tr>\n",
       "  </thead>\n",
       "  <tbody>\n",
       "    <tr>\n",
       "      <th>0</th>\n",
       "      <td>0</td>\n",
       "      <td>195</td>\n",
       "      <td>0</td>\n",
       "    </tr>\n",
       "    <tr>\n",
       "      <th>1</th>\n",
       "      <td>0</td>\n",
       "      <td>76</td>\n",
       "      <td>0</td>\n",
       "    </tr>\n",
       "    <tr>\n",
       "      <th>2</th>\n",
       "      <td>1</td>\n",
       "      <td>35</td>\n",
       "      <td>0</td>\n",
       "    </tr>\n",
       "    <tr>\n",
       "      <th>3</th>\n",
       "      <td>1</td>\n",
       "      <td>36</td>\n",
       "      <td>1</td>\n",
       "    </tr>\n",
       "  </tbody>\n",
       "</table>\n",
       "</div>"
      ],
      "text/plain": [
       "   user_idx  item_idx  relevance\n",
       "0         0       195          0\n",
       "1         0        76          0\n",
       "2         1        35          0\n",
       "3         1        36          1"
      ]
     },
     "execution_count": 15,
     "metadata": {},
     "output_type": "execute_result"
    }
   ],
   "source": [
    "new_log = test_response.drop(\"relevance\", \"response_proba\").withColumnRenamed(\n",
    "    \"response\", \"relevance\"\n",
    ")\n",
    "new_log.limit(5).toPandas()"
   ]
  },
  {
   "cell_type": "code",
   "execution_count": 16,
   "metadata": {},
   "outputs": [
    {
     "name": "stderr",
     "output_type": "stream",
     "text": [
      "                                                                                \r"
     ]
    },
    {
     "data": {
      "text/html": [
       "<div>\n",
       "<style scoped>\n",
       "    .dataframe tbody tr th:only-of-type {\n",
       "        vertical-align: middle;\n",
       "    }\n",
       "\n",
       "    .dataframe tbody tr th {\n",
       "        vertical-align: top;\n",
       "    }\n",
       "\n",
       "    .dataframe thead th {\n",
       "        text-align: right;\n",
       "    }\n",
       "</style>\n",
       "<table border=\"1\" class=\"dataframe\">\n",
       "  <thead>\n",
       "    <tr style=\"text-align: right;\">\n",
       "      <th></th>\n",
       "      <th>item_idx</th>\n",
       "      <th>relevance</th>\n",
       "    </tr>\n",
       "  </thead>\n",
       "  <tbody>\n",
       "    <tr>\n",
       "      <th>0</th>\n",
       "      <td>195</td>\n",
       "      <td>1.442027</td>\n",
       "    </tr>\n",
       "    <tr>\n",
       "      <th>1</th>\n",
       "      <td>76</td>\n",
       "      <td>1.442027</td>\n",
       "    </tr>\n",
       "    <tr>\n",
       "      <th>2</th>\n",
       "      <td>35</td>\n",
       "      <td>1.442027</td>\n",
       "    </tr>\n",
       "    <tr>\n",
       "      <th>3</th>\n",
       "      <td>36</td>\n",
       "      <td>2.442027</td>\n",
       "    </tr>\n",
       "  </tbody>\n",
       "</table>\n",
       "</div>"
      ],
      "text/plain": [
       "   item_idx  relevance\n",
       "0       195   1.442027\n",
       "1        76   1.442027\n",
       "2        35   1.442027\n",
       "3        36   2.442027"
      ]
     },
     "execution_count": 16,
     "metadata": {},
     "output_type": "execute_result"
    }
   ],
   "source": [
    "rs_model.fit(log=new_log)\n",
    "rs_model.item_popularity.limit(5).toPandas()"
   ]
  },
  {
   "cell_type": "markdown",
   "metadata": {
    "cellId": "ytr06uktdlrtba7yym35z",
    "execution_id": "875247d7-4576-4f2e-8524-57a90ec7b530"
   },
   "source": [
    "## (6) Quality of recommendations"
   ]
  },
  {
   "cell_type": "markdown",
   "metadata": {
    "cellId": "rlp6n6ghul6do1y9tnfs3",
    "execution_id": "c66c5616-7b51-46fb-bf64-ff3aae3560a3"
   },
   "source": [
    "Quality is the average number of positive responses on recommended items per user."
   ]
  },
  {
   "cell_type": "code",
   "execution_count": 18,
   "metadata": {
    "cellId": "ggmpn0ggz9nq4qt06ubae"
   },
   "outputs": [
    {
     "data": {
      "text/plain": [
       "0.5"
      ]
     },
     "execution_count": 18,
     "metadata": {},
     "output_type": "execute_result"
    }
   ],
   "source": [
    "calc_metric(test_response)"
   ]
  },
  {
   "cell_type": "markdown",
   "metadata": {
    "cellId": "o0o3kq6tjrs7tuvbdikavd",
    "execution_id": "7c137458-8817-41ef-aa39-c255fe3286f6"
   },
   "source": [
    "# Training the model in the simulator"
   ]
  },
  {
   "cell_type": "code",
   "execution_count": 19,
   "metadata": {
    "cellId": "kkg4h3xdwqhgpk4gs9y37m"
   },
   "outputs": [],
   "source": [
    "%%bash -s \"$CHECKPOINT_DIR\"\n",
    "rm -rf $1"
   ]
  },
  {
   "cell_type": "markdown",
   "metadata": {
    "cellId": "wkff236bnjdemsw693fj6s",
    "execution_id": "2f344684-ba2b-4d19-9079-527e6e2d7969"
   },
   "source": [
    "## Simulator initialization"
   ]
  },
  {
   "cell_type": "code",
   "execution_count": 20,
   "metadata": {
    "cellId": "9eplt0wb7cnd273dkt5n6"
   },
   "outputs": [],
   "source": [
    "user_generator.initSeedSequence(SEED)\n",
    "item_generator.initSeedSequence(SEED)\n",
    "\n",
    "sim = Simulator(\n",
    "    user_gen=user_generator,\n",
    "    item_gen=item_generator,\n",
    "    data_dir=f'{CHECKPOINT_DIR}/pipeline',\n",
    "    user_key_col='user_idx',\n",
    "    item_key_col='item_idx',\n",
    "    spark_session=spark\n",
    ")"
   ]
  },
  {
   "cell_type": "markdown",
   "metadata": {
    "cellId": "32xq7dw4q0uk4bwf04bzac",
    "execution_id": "5a37dcac-ecb3-4c8a-b613-96059682e31d"
   },
   "source": [
    "Check that the format is correct."
   ]
  },
  {
   "cell_type": "code",
   "execution_count": 21,
   "metadata": {
    "cellId": "mz1tro3j75j8a8hcuvjvl7"
   },
   "outputs": [],
   "source": [
    "pred = rs_model.predict(log=None, users=users.limit(10), items=items, k=K)\n",
    "\n",
    "assert pred.columns == [\"user_idx\", \"item_idx\", \"relevance\"]\n",
    "assert (\n",
    "    pred.groupBy(\"user_idx\")\n",
    "    .agg(sf.countDistinct(\"item_idx\").alias(\"num_items\"))\n",
    "    .filter(sf.col(\"num_items\") == sf.lit(K))\n",
    "    .count()\n",
    "    == 10\n",
    ")\n",
    "assert (\n",
    "    pred.groupBy(\"user_idx\")\n",
    "    .agg(sf.count(\"item_idx\").alias(\"num_items\"))\n",
    "    .filter(sf.col(\"num_items\") == sf.lit(K))\n",
    "    .count()\n",
    "    == 10\n",
    ")"
   ]
  },
  {
   "cell_type": "markdown",
   "metadata": {
    "cellId": "363j2r5xezoduowlgowzy8",
    "execution_id": "23bcc021-9eb1-4d41-b46b-6a05442fd92e"
   },
   "source": [
    "## Response function initialization"
   ]
  },
  {
   "cell_type": "code",
   "execution_count": 22,
   "metadata": {
    "cellId": "0gtzwgls0htlluzisn2m2"
   },
   "outputs": [],
   "source": [
    "response_model = response_pipeline.fit(items)"
   ]
  },
  {
   "cell_type": "markdown",
   "metadata": {
    "cellId": "1t5x6egzvjmz7yk9tc7gf",
    "execution_id": "50e4dc71-1b47-4832-af9f-efcd08b5b47c"
   },
   "source": [
    "## Simulation cycle"
   ]
  },
  {
   "cell_type": "code",
   "execution_count": 23,
   "metadata": {
    "cellId": "9xd6azbslgcdb0hsl7sm"
   },
   "outputs": [
    {
     "data": {
      "image/png": "[encoded data removed]",
      "text/plain": [
       "<Figure size 640x480 with 1 Axes>"
      ]
     },
     "metadata": {},
     "output_type": "display_data"
    },
    {
     "name": "stdout",
     "output_type": "stream",
     "text": [
      "Iteration 49 finished in 8.062345743179321 sec.\n"
     ]
    }
   ],
   "source": [
    "metrics = []\n",
    "for i in range(NUM_ITER):\n",
    "    print(f\"Iteration {i} started\")\n",
    "    iter_time = time.time()\n",
    "    # sample users\n",
    "    current_users = sim.sample_users(0.1).repartition(NUM_THREADS * 3).cache()\n",
    "    # history of interactions\n",
    "    log = sim.get_log(current_users)\n",
    "    # getting recommendations for sampled users from the recommender system\n",
    "    recs = rs_model.predict(\n",
    "        log=log, k=5, users=current_users, items=items, filter_seen_items=False\n",
    "    )\n",
    "    # getting responses to recommended items from the response function\n",
    "    true_resp = sim.sample_responses(\n",
    "        recs_df=recs,\n",
    "        user_features=current_users,\n",
    "        item_features=items,\n",
    "        action_models=response_model,\n",
    "    )\n",
    "    # update user interaction history\n",
    "    sim.update_log(true_resp, iteration=i)\n",
    "    # measure the quality of the recommender system\n",
    "    metrics.append(calc_metric(true_resp))\n",
    "    # refitting the recommender model\n",
    "    rs_model._clear_cache()\n",
    "    train_log = sim.log\n",
    "    rs_model.fit(\n",
    "        log=train_log.select(\"user_idx\", \"item_idx\", \"response\").withColumnRenamed(\n",
    "            \"response\", \"relevance\"\n",
    "        )\n",
    "    )\n",
    "\n",
    "    current_users.unpersist()\n",
    "    if log is not None:\n",
    "        log.unpersist()\n",
    "    recs.unpersist()\n",
    "    true_resp.unpersist()\n",
    "    train_log.unpersist()\n",
    "\n",
    "    plot_metric(metrics)\n",
    "    print(f\"Iteration {i} finished in {time.time() - iter_time} sec.\")"
   ]
  },
  {
   "cell_type": "code",
   "execution_count": 24,
   "metadata": {
    "cellId": "zpg8amfm8mvopmyulehl9"
   },
   "outputs": [
    {
     "name": "stdout",
     "output_type": "stream",
     "text": [
      "+--------+--------+--------------------+--------------+--------+------+\n",
      "|item_idx|user_idx|           relevance|response_proba|response|__iter|\n",
      "+--------+--------+--------------------+--------------+--------+------+\n",
      "|      27|      52|0.006269646504010278|           0.7|       1|     1|\n",
      "|      14|      52|0.005111431081246217|           0.4|       0|     1|\n",
      "+--------+--------+--------------------+--------------+--------+------+\n",
      "only showing top 2 rows\n",
      "\n"
     ]
    }
   ],
   "source": [
    "sim.log.filter(sf.col(\"__iter\") == 1).show(2)"
   ]
  },
  {
   "cell_type": "markdown",
   "metadata": {},
   "source": [
    "The quality of the recommender model has improved during the training cycle."
   ]
  },
  {
   "cell_type": "markdown",
   "metadata": {},
   "source": [
    "# Final prediction"
   ]
  },
  {
   "cell_type": "markdown",
   "metadata": {},
   "source": [
    "After training the recommender system in the simulation cycle we get recommendations for all users from the recommender system."
   ]
  },
  {
   "cell_type": "code",
   "execution_count": 25,
   "metadata": {
    "cellId": "s06ebpys4j0613t0tm6h5p"
   },
   "outputs": [],
   "source": [
    "recs = rs_model.predict(\n",
    "    log=sim.log, k=K, users=users, items=items, filter_seen_items=False\n",
    ").cache()"
   ]
  },
  {
   "cell_type": "markdown",
   "metadata": {},
   "source": [
    "Then we get responses and measure the quality of the recommender system."
   ]
  },
  {
   "cell_type": "code",
   "execution_count": 26,
   "metadata": {
    "cellId": "jkr7id6a4fotox3u6qyrn"
   },
   "outputs": [
    {
     "name": "stderr",
     "output_type": "stream",
     "text": [
      "[Stage 1745:=================================================>    (11 + 1) / 12]\r"
     ]
    },
    {
     "name": "stdout",
     "output_type": "stream",
     "text": [
      "Average number of clicks per user after model training = 2.8672\n"
     ]
    },
    {
     "name": "stderr",
     "output_type": "stream",
     "text": [
      "                                                                                \r"
     ]
    }
   ],
   "source": [
    "# responses from the response model\n",
    "true_resp = sim.sample_responses(\n",
    "    recs_df=recs, user_features=users, item_features=items, action_models=response_model\n",
    ").cache()\n",
    "\n",
    "# model quality\n",
    "print(\n",
    "    f\"Average number of clicks per user after model training = {calc_metric(true_resp)}\"\n",
    ")"
   ]
  },
  {
   "cell_type": "code",
   "execution_count": 27,
   "metadata": {
    "cellId": "yangpy3fohj3mn1c5yz2bf"
   },
   "outputs": [
    {
     "data": {
      "text/plain": [
       "DataFrame[item_idx: int, user_idx: int, relevance: double, response_proba: double, response: int]"
      ]
     },
     "execution_count": 27,
     "metadata": {},
     "output_type": "execute_result"
    }
   ],
   "source": [
    "recs.unpersist()\n",
    "true_resp.unpersist()"
   ]
  },
  {
   "cell_type": "markdown",
   "metadata": {},
   "source": [
    "Find the most popular items with the highest relevance. The most popular items have ids ending in 9 because they have the highest probability of response."
   ]
  },
  {
   "cell_type": "code",
   "execution_count": 28,
   "metadata": {
    "cellId": "p8gg6nh7uua3kdxoc8x7wn"
   },
   "outputs": [
    {
     "name": "stdout",
     "output_type": "stream",
     "text": [
      "+--------+------------------+\n",
      "|item_idx|         relevance|\n",
      "+--------+------------------+\n",
      "|      99|1.0261915537353732|\n",
      "|      49|1.0226645595481847|\n",
      "|      69|1.0221211912145758|\n",
      "|       9|1.0211361945284638|\n",
      "|     139|1.0193347366527326|\n",
      "|      89|1.0182569601908482|\n",
      "|     159| 1.018043579433346|\n",
      "|     189|1.0175983133091875|\n",
      "|      79|1.0156099705283423|\n",
      "|     199|1.0152934300946403|\n",
      "|     149| 1.013438139409007|\n",
      "|      29| 1.013418091839723|\n",
      "|      59|1.0127609676793394|\n",
      "|      39|1.0093342406581383|\n",
      "|     119|1.0085701161067904|\n",
      "|      19|1.0071971582561654|\n",
      "|     109|1.0062501885591957|\n",
      "|     179|0.9995607149707373|\n",
      "|     169|0.9985615659476608|\n",
      "|     129|0.9975857811937804|\n",
      "+--------+------------------+\n",
      "only showing top 20 rows\n",
      "\n"
     ]
    }
   ],
   "source": [
    "# the most popular items \n",
    "rs_model.item_popularity.orderBy(sf.col('relevance').desc()).show()"
   ]
  },
  {
   "cell_type": "code",
   "execution_count": null,
   "metadata": {},
   "outputs": [],
   "source": []
  }
 ],
 "metadata": {
  "kernelspec": {
   "display_name": "env39_sim4rec_demo_new",
   "language": "python",
   "name": "env39_sim4rec_demo_new"
  },
  "language_info": {
   "codemirror_mode": {
    "name": "ipython",
    "version": 3
   },
   "file_extension": ".py",
   "mimetype": "text/x-python",
   "name": "python",
   "nbconvert_exporter": "python",
   "pygments_lexer": "ipython3",
   "version": "3.9.19"
  },
  "notebookId": "cd4e698e-7892-45e1-a7aa-fe1453f4b402",
  "notebookPath": "sources/sim4rec/sber-simulator-main/task_1.ipynb",
  "vscode": {
   "interpreter": {
    "hash": "0c23ac1ac3d03469769ffca4283c7852312778d94b2cbd9b1a60eeafc1c4055f"
   }
  }
 },
 "nbformat": 4,
 "nbformat_minor": 4
}
